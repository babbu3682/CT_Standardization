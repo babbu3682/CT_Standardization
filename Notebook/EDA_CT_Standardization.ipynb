{
 "cells": [
  {
   "cell_type": "code",
   "execution_count": 96,
   "id": "junior-reggae",
   "metadata": {},
   "outputs": [
    {
     "name": "stdout",
     "output_type": "stream",
     "text": [
      "Mon Sep 27 00:57:20 2021       \n",
      "+-----------------------------------------------------------------------------+\n",
      "| NVIDIA-SMI 460.91.03    Driver Version: 460.91.03    CUDA Version: 11.2     |\n",
      "|-------------------------------+----------------------+----------------------+\n",
      "| GPU  Name        Persistence-M| Bus-Id        Disp.A | Volatile Uncorr. ECC |\n",
      "| Fan  Temp  Perf  Pwr:Usage/Cap|         Memory-Usage | GPU-Util  Compute M. |\n",
      "|                               |                      |               MIG M. |\n",
      "|===============================+======================+======================|\n",
      "|   0  Quadro RTX 8000     Off  | 00000000:1B:00.0 Off |                  Off |\n",
      "| 33%   53C    P2    80W / 260W |  43010MiB / 48601MiB |      0%      Default |\n",
      "|                               |                      |                  N/A |\n",
      "+-------------------------------+----------------------+----------------------+\n",
      "|   1  Quadro RTX 8000     Off  | 00000000:1C:00.0 Off |                  Off |\n",
      "| 33%   27C    P8    10W / 260W |   4070MiB / 48601MiB |      0%      Default |\n",
      "|                               |                      |                  N/A |\n",
      "+-------------------------------+----------------------+----------------------+\n",
      "|   2  Quadro RTX 8000     Off  | 00000000:1D:00.0 Off |                  Off |\n",
      "| 33%   30C    P8    17W / 260W |  41298MiB / 48601MiB |      0%      Default |\n",
      "|                               |                      |                  N/A |\n",
      "+-------------------------------+----------------------+----------------------+\n",
      "|   3  Quadro RTX 8000     Off  | 00000000:1E:00.0 Off |                  Off |\n",
      "| 33%   47C    P2    64W / 260W |  39118MiB / 48601MiB |      0%      Default |\n",
      "|                               |                      |                  N/A |\n",
      "+-------------------------------+----------------------+----------------------+\n",
      "|   4  Quadro RTX 8000     Off  | 00000000:3D:00.0 Off |                  Off |\n",
      "| 33%   25C    P8    10W / 260W |  14793MiB / 48601MiB |      0%      Default |\n",
      "|                               |                      |                  N/A |\n",
      "+-------------------------------+----------------------+----------------------+\n",
      "|   5  Quadro RTX 8000     Off  | 00000000:3F:00.0 Off |                  Off |\n",
      "| 33%   35C    P0    62W / 260W |      0MiB / 48601MiB |      0%      Default |\n",
      "|                               |                      |                  N/A |\n",
      "+-------------------------------+----------------------+----------------------+\n",
      "|   6  Quadro RTX 8000     Off  | 00000000:40:00.0 Off |                  Off |\n",
      "| 31%   33C    P0    68W / 260W |      0MiB / 48601MiB |      0%      Default |\n",
      "|                               |                      |                  N/A |\n",
      "+-------------------------------+----------------------+----------------------+\n",
      "|   7  Quadro RTX 8000     Off  | 00000000:41:00.0 Off |                  Off |\n",
      "| 33%   29C    P8    13W / 260W |  16506MiB / 48601MiB |      0%      Default |\n",
      "|                               |                      |                  N/A |\n",
      "+-------------------------------+----------------------+----------------------+\n",
      "                                                                               \n",
      "+-----------------------------------------------------------------------------+\n",
      "| Processes:                                                                  |\n",
      "|  GPU   GI   CI        PID   Type   Process name                  GPU Memory |\n",
      "|        ID   ID                                                   Usage      |\n",
      "|=============================================================================|\n",
      "+-----------------------------------------------------------------------------+\n"
     ]
    }
   ],
   "source": [
    "!nvidia-smi\n",
    "\n",
    "import os\n",
    "# os.environ[\"CUDA_DEVICE_ORDER\"]=\"PCI_BUS_ID\"\n",
    "# os.environ[\"CUDA_VISIBLE_DEVICES\"]= \"3\"\n",
    "\n",
    "import torch\n",
    "import torch.nn as nn\n",
    "import torch.nn.functional as F\n",
    "\n",
    "import numpy as np\n",
    "import cv2\n",
    "import matplotlib.pyplot as plt\n",
    "from tqdm import tqdm\n",
    "import pandas as pd\n",
    "import sys\n",
    "sys.path.append(os.path.abspath('/workspace/sunggu'))\n",
    "sys.path.append(os.path.abspath('/workspace/sunggu/5.CT_Standardization'))\n"
   ]
  },
  {
   "cell_type": "code",
   "execution_count": 97,
   "id": "flying-intermediate",
   "metadata": {},
   "outputs": [],
   "source": [
    "E_df = pd.read_excel('/workspace/sunggu/5.CT_Standardization/CT표준화_Header_info_수정_spacing.xlsx', engine='openpyxl', index_col=0, sheet_name='Enhance') \n",
    "N_df = pd.read_excel('/workspace/sunggu/5.CT_Standardization/CT표준화_Header_info_수정_spacing.xlsx', engine='openpyxl', index_col=0, sheet_name='Non-enhance') "
   ]
  },
  {
   "cell_type": "code",
   "execution_count": 98,
   "id": "objective-league",
   "metadata": {},
   "outputs": [
    {
     "data": {
      "text/html": [
       "<div>\n",
       "<style scoped>\n",
       "    .dataframe tbody tr th:only-of-type {\n",
       "        vertical-align: middle;\n",
       "    }\n",
       "\n",
       "    .dataframe tbody tr th {\n",
       "        vertical-align: top;\n",
       "    }\n",
       "\n",
       "    .dataframe thead th {\n",
       "        text-align: right;\n",
       "    }\n",
       "</style>\n",
       "<table border=\"1\" class=\"dataframe\">\n",
       "  <thead>\n",
       "    <tr style=\"text-align: right;\">\n",
       "      <th></th>\n",
       "      <th>Anonymized ID</th>\n",
       "      <th>Num Files</th>\n",
       "      <th>Patient Age</th>\n",
       "      <th>Gender</th>\n",
       "      <th>Study Date</th>\n",
       "      <th>Manufacturer</th>\n",
       "      <th>Manufacturer's Model Name</th>\n",
       "      <th>Software Versions</th>\n",
       "      <th>Convolution Kernel</th>\n",
       "      <th>Filter Type</th>\n",
       "      <th>KVP</th>\n",
       "      <th>X-ray Tube Current</th>\n",
       "      <th>Slice Thickness</th>\n",
       "      <th>Interval</th>\n",
       "      <th>Pixel Spacing</th>\n",
       "      <th>Unnamed: 16</th>\n",
       "    </tr>\n",
       "    <tr>\n",
       "      <th>Num</th>\n",
       "      <th></th>\n",
       "      <th></th>\n",
       "      <th></th>\n",
       "      <th></th>\n",
       "      <th></th>\n",
       "      <th></th>\n",
       "      <th></th>\n",
       "      <th></th>\n",
       "      <th></th>\n",
       "      <th></th>\n",
       "      <th></th>\n",
       "      <th></th>\n",
       "      <th></th>\n",
       "      <th></th>\n",
       "      <th></th>\n",
       "      <th></th>\n",
       "    </tr>\n",
       "  </thead>\n",
       "  <tbody>\n",
       "    <tr>\n",
       "      <th>000001</th>\n",
       "      <td>IE000001</td>\n",
       "      <td>NaN</td>\n",
       "      <td>061Y</td>\n",
       "      <td>M</td>\n",
       "      <td>20190116</td>\n",
       "      <td>SIEMENS</td>\n",
       "      <td>SOMATOM Definition Edge</td>\n",
       "      <td>syngo CT 2012B</td>\n",
       "      <td>B50f</td>\n",
       "      <td>FLAT</td>\n",
       "      <td>120</td>\n",
       "      <td>312.0</td>\n",
       "      <td>1.000</td>\n",
       "      <td>1</td>\n",
       "      <td>0.66796875\\0.66796875</td>\n",
       "      <td>NaN</td>\n",
       "    </tr>\n",
       "    <tr>\n",
       "      <th>000001</th>\n",
       "      <td>OE000001</td>\n",
       "      <td>116.0</td>\n",
       "      <td>061Y</td>\n",
       "      <td>M</td>\n",
       "      <td>20181119</td>\n",
       "      <td>SIEMENS</td>\n",
       "      <td>SOMATOM Definition Flash</td>\n",
       "      <td>syngo CT VA48A</td>\n",
       "      <td>B60f</td>\n",
       "      <td>WEDGE_3</td>\n",
       "      <td>100</td>\n",
       "      <td>646.0</td>\n",
       "      <td>3.000</td>\n",
       "      <td>3</td>\n",
       "      <td>0.673828125\\0.673828125</td>\n",
       "      <td>NaN</td>\n",
       "    </tr>\n",
       "    <tr>\n",
       "      <th>000002</th>\n",
       "      <td>IE000002</td>\n",
       "      <td>NaN</td>\n",
       "      <td>072Y</td>\n",
       "      <td>F</td>\n",
       "      <td>20161027</td>\n",
       "      <td>GE MEDICAL SYSTEMS</td>\n",
       "      <td>LightSpeed VCT</td>\n",
       "      <td>gmp_vct.26</td>\n",
       "      <td>DETAIL</td>\n",
       "      <td>BODY FILTER</td>\n",
       "      <td>120</td>\n",
       "      <td>174.0</td>\n",
       "      <td>0.625</td>\n",
       "      <td>0.625</td>\n",
       "      <td>0.683594\\0.683594</td>\n",
       "      <td>NaN</td>\n",
       "    </tr>\n",
       "    <tr>\n",
       "      <th>000002</th>\n",
       "      <td>OE000002</td>\n",
       "      <td>306.0</td>\n",
       "      <td>072Y</td>\n",
       "      <td>F</td>\n",
       "      <td>20160512</td>\n",
       "      <td>Philips</td>\n",
       "      <td>Brilliance 64</td>\n",
       "      <td>2.6.2</td>\n",
       "      <td>YB</td>\n",
       "      <td>YB</td>\n",
       "      <td>120</td>\n",
       "      <td>376.0</td>\n",
       "      <td>1.000</td>\n",
       "      <td>1</td>\n",
       "      <td>0.68359375\\0.68359375</td>\n",
       "      <td>NaN</td>\n",
       "    </tr>\n",
       "    <tr>\n",
       "      <th>000003</th>\n",
       "      <td>IE000003</td>\n",
       "      <td>NaN</td>\n",
       "      <td>059Y</td>\n",
       "      <td>F</td>\n",
       "      <td>20181008</td>\n",
       "      <td>SIEMENS</td>\n",
       "      <td>SOMATOM Definition Edge</td>\n",
       "      <td>syngo CT 2012B</td>\n",
       "      <td>B50f</td>\n",
       "      <td>FLAT</td>\n",
       "      <td>120</td>\n",
       "      <td>194.0</td>\n",
       "      <td>1.000</td>\n",
       "      <td>1</td>\n",
       "      <td>0.6328125\\0.6328125</td>\n",
       "      <td>NaN</td>\n",
       "    </tr>\n",
       "  </tbody>\n",
       "</table>\n",
       "</div>"
      ],
      "text/plain": [
       "       Anonymized ID  Num Files Patient Age Gender  Study Date  \\\n",
       "Num                                                              \n",
       "000001      IE000001        NaN        061Y      M    20190116   \n",
       "000001      OE000001      116.0        061Y      M    20181119   \n",
       "000002      IE000002        NaN        072Y      F    20161027   \n",
       "000002      OE000002      306.0        072Y      F    20160512   \n",
       "000003      IE000003        NaN        059Y      F    20181008   \n",
       "\n",
       "              Manufacturer Manufacturer's Model Name Software Versions  \\\n",
       "Num                                                                      \n",
       "000001             SIEMENS   SOMATOM Definition Edge    syngo CT 2012B   \n",
       "000001             SIEMENS  SOMATOM Definition Flash    syngo CT VA48A   \n",
       "000002  GE MEDICAL SYSTEMS            LightSpeed VCT        gmp_vct.26   \n",
       "000002             Philips             Brilliance 64             2.6.2   \n",
       "000003             SIEMENS   SOMATOM Definition Edge    syngo CT 2012B   \n",
       "\n",
       "       Convolution Kernel  Filter Type  KVP  X-ray Tube Current  \\\n",
       "Num                                                               \n",
       "000001               B50f         FLAT  120               312.0   \n",
       "000001               B60f      WEDGE_3  100               646.0   \n",
       "000002             DETAIL  BODY FILTER  120               174.0   \n",
       "000002                 YB           YB  120               376.0   \n",
       "000003               B50f         FLAT  120               194.0   \n",
       "\n",
       "        Slice Thickness Interval            Pixel Spacing  Unnamed: 16  \n",
       "Num                                                                     \n",
       "000001            1.000        1    0.66796875\\0.66796875          NaN  \n",
       "000001            3.000        3  0.673828125\\0.673828125          NaN  \n",
       "000002            0.625    0.625        0.683594\\0.683594          NaN  \n",
       "000002            1.000        1    0.68359375\\0.68359375          NaN  \n",
       "000003            1.000        1      0.6328125\\0.6328125          NaN  "
      ]
     },
     "execution_count": 98,
     "metadata": {},
     "output_type": "execute_result"
    }
   ],
   "source": [
    "E_df.head()"
   ]
  },
  {
   "cell_type": "markdown",
   "id": "national-enough",
   "metadata": {},
   "source": [
    "## Age"
   ]
  },
  {
   "cell_type": "code",
   "execution_count": 99,
   "id": "lightweight-advertiser",
   "metadata": {},
   "outputs": [],
   "source": [
    "def extract_E(x):\n",
    "    return x.split('0')[0]"
   ]
  },
  {
   "cell_type": "code",
   "execution_count": 100,
   "id": "false-agent",
   "metadata": {},
   "outputs": [],
   "source": [
    "E_df['check E'] = E_df['Anonymized ID'].apply(extract_E)\n",
    "N_df['check E'] = N_df['Anonymized ID'].apply(extract_E)"
   ]
  },
  {
   "cell_type": "code",
   "execution_count": 101,
   "id": "communist-terrain",
   "metadata": {},
   "outputs": [],
   "source": [
    "def To_int(x):\n",
    "    return int(x.split('Y')[0])"
   ]
  },
  {
   "cell_type": "code",
   "execution_count": 102,
   "id": "mechanical-marathon",
   "metadata": {
    "scrolled": true
   },
   "outputs": [
    {
     "data": {
      "text/plain": [
       "Text(0.5, 1.0, 'Box plot of Patient Age')"
      ]
     },
     "execution_count": 102,
     "metadata": {},
     "output_type": "execute_result"
    },
    {
     "data": {
      "image/png": "[encoded data removed]",
      "text/plain": [
       "<Figure size 432x288 with 1 Axes>"
      ]
     },
     "metadata": {
      "needs_background": "light"
     },
     "output_type": "display_data"
    }
   ],
   "source": [
    "a = E_df[E_df['check E'] == 'IE']['Patient Age'].apply(To_int).values\n",
    "b = E_df[E_df['check E'] == 'OE']['Patient Age'].apply(To_int).values\n",
    "c = N_df[N_df['check E'] == 'IN']['Patient Age'].apply(To_int).values\n",
    "d = N_df[N_df['check E'] == 'ON']['Patient Age'].apply(To_int).values\n",
    "\n",
    "plt.boxplot([a,b,c,d])\n",
    "plt.xticks([1, 2, 3, 4], ['IE', 'OE', 'IN', 'ON'])\n",
    "# plt.boxplot([a,b])\n",
    "# plt.xticks([1, 2], ['IE', 'OE'])\n",
    "plt.xlabel('Dataset')\n",
    "plt.ylabel('Year')\n",
    "plt.title('Box plot of Patient Age')"
   ]
  },
  {
   "cell_type": "markdown",
   "id": "brown-vampire",
   "metadata": {},
   "source": [
    "## Gender"
   ]
  },
  {
   "cell_type": "code",
   "execution_count": 103,
   "id": "desperate-anger",
   "metadata": {},
   "outputs": [],
   "source": [
    "E_df['check E'] = E_df['Anonymized ID'].apply(extract_E)\n",
    "N_df['check E'] = N_df['Anonymized ID'].apply(extract_E)"
   ]
  },
  {
   "cell_type": "code",
   "execution_count": 104,
   "id": "familiar-product",
   "metadata": {},
   "outputs": [],
   "source": [
    "a = E_df[E_df['check E'] == 'IE']['Gender'].values\n",
    "b = E_df[E_df['check E'] == 'OE']['Gender'].values\n",
    "c = N_df[N_df['check E'] == 'IN']['Gender'].values\n",
    "d = N_df[N_df['check E'] == 'ON']['Gender'].values"
   ]
  },
  {
   "cell_type": "code",
   "execution_count": 105,
   "id": "sweet-proposition",
   "metadata": {},
   "outputs": [
    {
     "data": {
      "image/png": "[encoded data removed]",
      "text/plain": [
       "<Figure size 432x288 with 1 Axes>"
      ]
     },
     "metadata": {
      "needs_background": "light"
     },
     "output_type": "display_data"
    }
   ],
   "source": [
    "cluster, counts = np.unique(a, return_counts=True)\n",
    "plt.bar([0, 1], counts)\n",
    "plt.xticks([0, 1], cluster)\n",
    "plt.title('Sex of IE')\n",
    "plt.show()\n"
   ]
  },
  {
   "cell_type": "code",
   "execution_count": 106,
   "id": "geological-aviation",
   "metadata": {},
   "outputs": [
    {
     "data": {
      "image/png": "[encoded data removed]",
      "text/plain": [
       "<Figure size 432x288 with 1 Axes>"
      ]
     },
     "metadata": {
      "needs_background": "light"
     },
     "output_type": "display_data"
    }
   ],
   "source": [
    "cluster, counts = np.unique(b, return_counts=True)\n",
    "plt.bar([0, 1, 2], counts)\n",
    "plt.xticks([0, 1, 2], cluster)\n",
    "plt.title('Sex of OE')\n",
    "plt.show()\n"
   ]
  },
  {
   "cell_type": "code",
   "execution_count": 107,
   "id": "applicable-bread",
   "metadata": {},
   "outputs": [
    {
     "data": {
      "image/png": "[encoded data removed]",
      "text/plain": [
       "<Figure size 432x288 with 1 Axes>"
      ]
     },
     "metadata": {
      "needs_background": "light"
     },
     "output_type": "display_data"
    }
   ],
   "source": [
    "cluster, counts = np.unique(c, return_counts=True)\n",
    "plt.bar([0, 1], counts)\n",
    "plt.xticks([0, 1], cluster)\n",
    "plt.title('Sex of IN')\n",
    "plt.show()\n"
   ]
  },
  {
   "cell_type": "code",
   "execution_count": 108,
   "id": "exempt-target",
   "metadata": {},
   "outputs": [
    {
     "data": {
      "image/png": "[encoded data removed]",
      "text/plain": [
       "<Figure size 432x288 with 1 Axes>"
      ]
     },
     "metadata": {
      "needs_background": "light"
     },
     "output_type": "display_data"
    }
   ],
   "source": [
    "cluster, counts = np.unique(d, return_counts=True)\n",
    "plt.bar([0, 1, 2], counts)\n",
    "plt.xticks([0, 1, 2], cluster)\n",
    "plt.title('Sex of ON')\n",
    "plt.show()\n"
   ]
  },
  {
   "cell_type": "markdown",
   "id": "exclusive-globe",
   "metadata": {},
   "source": [
    "## Manufacturer"
   ]
  },
  {
   "cell_type": "code",
   "execution_count": 109,
   "id": "decreased-disabled",
   "metadata": {},
   "outputs": [],
   "source": [
    "a = E_df[E_df['check E'] == 'IE']['Manufacturer'].values\n",
    "b = E_df[E_df['check E'] == 'OE']['Manufacturer'].values\n",
    "c = N_df[N_df['check E'] == 'IN']['Manufacturer'].values\n",
    "d = N_df[N_df['check E'] == 'ON']['Manufacturer'].values"
   ]
  },
  {
   "cell_type": "code",
   "execution_count": 110,
   "id": "finite-austin",
   "metadata": {},
   "outputs": [
    {
     "data": {
      "text/html": [
       "<div>\n",
       "<style scoped>\n",
       "    .dataframe tbody tr th:only-of-type {\n",
       "        vertical-align: middle;\n",
       "    }\n",
       "\n",
       "    .dataframe tbody tr th {\n",
       "        vertical-align: top;\n",
       "    }\n",
       "\n",
       "    .dataframe thead th {\n",
       "        text-align: right;\n",
       "    }\n",
       "</style>\n",
       "<table border=\"1\" class=\"dataframe\">\n",
       "  <thead>\n",
       "    <tr style=\"text-align: right;\">\n",
       "      <th></th>\n",
       "      <th>Manu</th>\n",
       "      <th>Count</th>\n",
       "    </tr>\n",
       "  </thead>\n",
       "  <tbody>\n",
       "    <tr>\n",
       "      <th>0</th>\n",
       "      <td>GE MEDICAL SYSTEMS</td>\n",
       "      <td>269</td>\n",
       "    </tr>\n",
       "    <tr>\n",
       "      <th>1</th>\n",
       "      <td>Hitachi Medical Corporation</td>\n",
       "      <td>1</td>\n",
       "    </tr>\n",
       "    <tr>\n",
       "      <th>2</th>\n",
       "      <td>INFINITT</td>\n",
       "      <td>2</td>\n",
       "    </tr>\n",
       "    <tr>\n",
       "      <th>3</th>\n",
       "      <td>PNMS</td>\n",
       "      <td>1</td>\n",
       "    </tr>\n",
       "    <tr>\n",
       "      <th>4</th>\n",
       "      <td>Philips</td>\n",
       "      <td>100</td>\n",
       "    </tr>\n",
       "    <tr>\n",
       "      <th>5</th>\n",
       "      <td>SIEMENS</td>\n",
       "      <td>572</td>\n",
       "    </tr>\n",
       "    <tr>\n",
       "      <th>6</th>\n",
       "      <td>TOSHIBA</td>\n",
       "      <td>55</td>\n",
       "    </tr>\n",
       "  </tbody>\n",
       "</table>\n",
       "</div>"
      ],
      "text/plain": [
       "                          Manu  Count\n",
       "0           GE MEDICAL SYSTEMS    269\n",
       "1  Hitachi Medical Corporation      1\n",
       "2                     INFINITT      2\n",
       "3                         PNMS      1\n",
       "4                      Philips    100\n",
       "5                      SIEMENS    572\n",
       "6                      TOSHIBA     55"
      ]
     },
     "execution_count": 110,
     "metadata": {},
     "output_type": "execute_result"
    }
   ],
   "source": [
    "cluster, counts = np.unique(E_df['Manufacturer'].values, return_counts=True)\n",
    "df = pd.DataFrame()\n",
    "df['Manu'] = cluster\n",
    "df['Count'] = counts \n",
    "df"
   ]
  },
  {
   "cell_type": "code",
   "execution_count": null,
   "id": "civic-caution",
   "metadata": {},
   "outputs": [],
   "source": [
    "cluster, counts = np.unique(list(map(str, d)), return_counts=True)\n",
    "df = pd.DataFrame()\n",
    "df['Manu']  = cluster\n",
    "df['Count'] = counts \n",
    "df"
   ]
  },
  {
   "cell_type": "code",
   "execution_count": null,
   "id": "healthy-employee",
   "metadata": {},
   "outputs": [],
   "source": [
    "b = E_df[(E_df['check E'] == 'OE') & (E_df['Manufacturer'] == 'TOSHIBA')]['Convolution Kernel'].values\n",
    "\n",
    "cluster, counts = np.unique(list(map(str, b)), return_counts=True)\n",
    "df = pd.DataFrame()\n",
    "df['Manu']  = cluster\n",
    "df['Count'] = counts \n",
    "df.sort_values(\"Count\")"
   ]
  },
  {
   "cell_type": "code",
   "execution_count": null,
   "id": "anticipated-nomination",
   "metadata": {},
   "outputs": [],
   "source": [
    "df.sort_values(\"Count\")"
   ]
  },
  {
   "cell_type": "code",
   "execution_count": null,
   "id": "seasonal-cannon",
   "metadata": {},
   "outputs": [],
   "source": []
  },
  {
   "cell_type": "markdown",
   "id": "dimensional-sharp",
   "metadata": {},
   "source": [
    "## Convolution Kernel\n"
   ]
  },
  {
   "cell_type": "code",
   "execution_count": null,
   "id": "incorrect-exploration",
   "metadata": {},
   "outputs": [],
   "source": [
    "a = E_df[E_df['check E'] == 'IE']['Convolution Kernel'].values\n",
    "b = E_df[E_df['check E'] == 'OE']['Convolution Kernel'].values\n",
    "c = N_df[N_df['check E'] == 'IN']['Convolution Kernel'].values\n",
    "d = N_df[N_df['check E'] == 'ON']['Convolution Kernel'].values"
   ]
  },
  {
   "cell_type": "code",
   "execution_count": null,
   "id": "subtle-lecture",
   "metadata": {},
   "outputs": [],
   "source": [
    "cluster, counts = np.unique(list(map(str, a)), return_counts=True)\n",
    "df = pd.DataFrame()\n",
    "df['Manu']  = cluster\n",
    "df['Count'] = counts \n",
    "df"
   ]
  },
  {
   "cell_type": "code",
   "execution_count": null,
   "id": "south-organizer",
   "metadata": {},
   "outputs": [],
   "source": [
    "cluster, counts = np.unique(list(map(str, b)), return_counts=True)\n",
    "df = pd.DataFrame()\n",
    "df['Manu']  = cluster\n",
    "df['Count'] = counts \n",
    "df[df['Count'] > 10]"
   ]
  },
  {
   "cell_type": "code",
   "execution_count": null,
   "id": "ruled-strip",
   "metadata": {},
   "outputs": [],
   "source": [
    "cluster, counts = np.unique(list(map(str, c)), return_counts=True)\n",
    "df = pd.DataFrame()\n",
    "df['Manu']  = cluster\n",
    "df['Count'] = counts \n",
    "df\n",
    "# df[df['Count'] > 10]"
   ]
  },
  {
   "cell_type": "code",
   "execution_count": null,
   "id": "increased-greene",
   "metadata": {},
   "outputs": [],
   "source": [
    "cluster, counts = np.unique(list(map(str, d)), return_counts=True)\n",
    "df = pd.DataFrame()\n",
    "df['Manu']  = cluster\n",
    "df['Count'] = counts \n",
    "\n",
    "df[df['Count'] > 10]"
   ]
  },
  {
   "cell_type": "markdown",
   "id": "presidential-plain",
   "metadata": {},
   "source": [
    "## Slice Thickness"
   ]
  },
  {
   "cell_type": "code",
   "execution_count": null,
   "id": "practical-chart",
   "metadata": {},
   "outputs": [],
   "source": [
    "a = E_df[E_df['check E'] == 'IE']['Slice Thickness'].values\n",
    "b = E_df[E_df['check E'] == 'OE']['Slice Thickness'].values\n",
    "c = N_df[N_df['check E'] == 'IN']['Slice Thickness'].values\n",
    "d = N_df[N_df['check E'] == 'ON']['Slice Thickness'].values"
   ]
  },
  {
   "cell_type": "code",
   "execution_count": null,
   "id": "useful-price",
   "metadata": {},
   "outputs": [],
   "source": [
    "cluster, counts = np.unique(list(map(str, a)), return_counts=True)\n",
    "df = pd.DataFrame()\n",
    "df['Manu']  = cluster\n",
    "df['Count'] = counts \n",
    "df"
   ]
  },
  {
   "cell_type": "code",
   "execution_count": null,
   "id": "original-property",
   "metadata": {},
   "outputs": [],
   "source": [
    "cluster, counts = np.unique(list(map(str, b)), return_counts=True)\n",
    "df = pd.DataFrame()\n",
    "df['Manu']  = cluster\n",
    "df['Count'] = counts \n",
    "df"
   ]
  },
  {
   "cell_type": "code",
   "execution_count": null,
   "id": "amateur-alexander",
   "metadata": {},
   "outputs": [],
   "source": [
    "cluster, counts = np.unique(list(map(str, c)), return_counts=True)\n",
    "df = pd.DataFrame()\n",
    "df['Manu']  = cluster\n",
    "df['Count'] = counts \n",
    "df"
   ]
  },
  {
   "cell_type": "code",
   "execution_count": null,
   "id": "minor-ireland",
   "metadata": {},
   "outputs": [],
   "source": [
    "cluster, counts = np.unique(list(map(str, d)), return_counts=True)\n",
    "df = pd.DataFrame()\n",
    "df['Manu']  = cluster\n",
    "df['Count'] = counts \n",
    "df"
   ]
  },
  {
   "cell_type": "markdown",
   "id": "rental-cheat",
   "metadata": {},
   "source": [
    "## Pixel Spacing\n"
   ]
  },
  {
   "cell_type": "code",
   "execution_count": null,
   "id": "italic-bhutan",
   "metadata": {},
   "outputs": [],
   "source": [
    "def extract_spacing(x):\n",
    "    return x.split('\\\\')[0]"
   ]
  },
  {
   "cell_type": "code",
   "execution_count": null,
   "id": "electoral-sitting",
   "metadata": {
    "scrolled": true
   },
   "outputs": [],
   "source": [
    "a = E_df[E_df['check E'] == 'IE']['Pixel Spacing'].apply(extract_spacing).values\n",
    "b = E_df[E_df['check E'] == 'OE']['Pixel Spacing'].apply(extract_spacing).values\n",
    "c = N_df[N_df['check E'] == 'IN']['Pixel Spacing'].apply(extract_spacing).values\n",
    "d = N_df[N_df['check E'] == 'ON']['Pixel Spacing'].values"
   ]
  },
  {
   "cell_type": "code",
   "execution_count": null,
   "id": "instructional-comment",
   "metadata": {},
   "outputs": [],
   "source": [
    "d = d.astype('str')"
   ]
  },
  {
   "cell_type": "code",
   "execution_count": null,
   "id": "overall-collective",
   "metadata": {},
   "outputs": [],
   "source": [
    "d = list(map(extract_spacing, d))"
   ]
  },
  {
   "cell_type": "code",
   "execution_count": null,
   "id": "genuine-vehicle",
   "metadata": {},
   "outputs": [],
   "source": [
    "cluster, counts = np.unique(list(map(str, a)), return_counts=True)\n",
    "df = pd.DataFrame()\n",
    "df['Manu']  = cluster\n",
    "df['Count'] = counts \n",
    "df[df['Count'] > 10]"
   ]
  },
  {
   "cell_type": "code",
   "execution_count": null,
   "id": "handy-tomorrow",
   "metadata": {},
   "outputs": [],
   "source": [
    "cluster, counts = np.unique(list(map(str, b)), return_counts=True)\n",
    "df = pd.DataFrame()\n",
    "df['Manu']  = cluster\n",
    "df['Count'] = counts \n",
    "df[df['Count'] > 10]"
   ]
  },
  {
   "cell_type": "code",
   "execution_count": null,
   "id": "generic-enlargement",
   "metadata": {},
   "outputs": [],
   "source": [
    "cluster, counts = np.unique(list(map(str, c)), return_counts=True)\n",
    "df = pd.DataFrame()\n",
    "df['Manu']  = cluster\n",
    "df['Count'] = counts \n",
    "df[df['Count'] > 10]"
   ]
  },
  {
   "cell_type": "code",
   "execution_count": null,
   "id": "legal-camping",
   "metadata": {},
   "outputs": [],
   "source": [
    "cluster, counts = np.unique(list(map(str, d)), return_counts=True)\n",
    "df = pd.DataFrame()\n",
    "df['Manu']  = cluster\n",
    "df['Count'] = counts \n",
    "df[df['Count'] > 10]"
   ]
  },
  {
   "cell_type": "code",
   "execution_count": null,
   "id": "alleged-respondent",
   "metadata": {},
   "outputs": [],
   "source": []
  },
  {
   "cell_type": "markdown",
   "id": "micro-electronics",
   "metadata": {},
   "source": [
    "## Interval"
   ]
  },
  {
   "cell_type": "code",
   "execution_count": null,
   "id": "elect-religion",
   "metadata": {},
   "outputs": [],
   "source": [
    "a = E_df[E_df['check E'] == 'IE']['Interval'].values\n",
    "b = E_df[E_df['check E'] == 'OE']['Interval'].values\n",
    "c = N_df[N_df['check E'] == 'IN']['Interval'].values\n",
    "d = N_df[N_df['check E'] == 'ON']['Interval'].values"
   ]
  },
  {
   "cell_type": "code",
   "execution_count": null,
   "id": "seeing-trigger",
   "metadata": {},
   "outputs": [],
   "source": [
    "cluster, counts = np.unique(list(map(str, a)), return_counts=True)\n",
    "df = pd.DataFrame()\n",
    "df['Manu']  = cluster\n",
    "df['Count'] = counts \n",
    "df"
   ]
  },
  {
   "cell_type": "code",
   "execution_count": null,
   "id": "complex-liability",
   "metadata": {},
   "outputs": [],
   "source": [
    "cluster, counts = np.unique(list(map(str, b)), return_counts=True)\n",
    "df = pd.DataFrame()\n",
    "df['Manu']  = cluster\n",
    "df['Count'] = counts \n",
    "df[df['Count'] > 10]"
   ]
  },
  {
   "cell_type": "code",
   "execution_count": null,
   "id": "olive-barrier",
   "metadata": {},
   "outputs": [],
   "source": [
    "cluster, counts = np.unique(list(map(str, c)), return_counts=True)\n",
    "df = pd.DataFrame()\n",
    "df['Manu']  = cluster\n",
    "df['Count'] = counts \n",
    "df[df['Count'] > 10]"
   ]
  },
  {
   "cell_type": "code",
   "execution_count": null,
   "id": "moral-business",
   "metadata": {},
   "outputs": [],
   "source": [
    "cluster, counts = np.unique(list(map(str, d)), return_counts=True)\n",
    "df = pd.DataFrame()\n",
    "df['Manu']  = cluster\n",
    "df['Count'] = counts \n",
    "df[df['Count'] > 10]"
   ]
  },
  {
   "cell_type": "markdown",
   "id": "front-visitor",
   "metadata": {},
   "source": [
    "## Intensity Hist"
   ]
  },
  {
   "cell_type": "code",
   "execution_count": 127,
   "id": "foreign-gardening",
   "metadata": {},
   "outputs": [],
   "source": [
    "import SimpleITK as sitk\n",
    "import glob\n",
    "\n",
    "nii_images  = sorted(glob.glob(\"/workspace/sunggu/5.CT_Standardization/dataset/NII_Pair_CT_dataset/*Enhance/*/*.nii.gz\"))"
   ]
  },
  {
   "cell_type": "code",
   "execution_count": 128,
   "id": "loaded-lafayette",
   "metadata": {},
   "outputs": [],
   "source": [
    "train_intensitiy = [ sitk.GetArrayFromImage(sitk.ReadImage(i)) for i in nii_images ]"
   ]
  },
  {
   "cell_type": "code",
   "execution_count": 156,
   "id": "spread-insertion",
   "metadata": {},
   "outputs": [],
   "source": [
    "# Train\n",
    "train_hist_dict = dict()\n",
    "for i in range(-31228, 3074, 1): # Range -1024 ~ 3072\n",
    "  train_hist_dict[str(i)] = 0"
   ]
  },
  {
   "cell_type": "code",
   "execution_count": 158,
   "id": "hundred-recipe",
   "metadata": {},
   "outputs": [
    {
     "data": {
      "text/plain": [
       "1971"
      ]
     },
     "execution_count": 158,
     "metadata": {},
     "output_type": "execute_result"
    }
   ],
   "source": [
    "len(nii_images)"
   ]
  },
  {
   "cell_type": "code",
   "execution_count": 159,
   "id": "complex-priest",
   "metadata": {},
   "outputs": [
    {
     "ename": "KeyboardInterrupt",
     "evalue": "",
     "output_type": "error",
     "traceback": [
      "\u001b[0;31m---------------------------------------------------------------------------\u001b[0m",
      "\u001b[0;31mKeyboardInterrupt\u001b[0m                         Traceback (most recent call last)",
      "\u001b[0;32m<ipython-input-159-53bba8557f86>\u001b[0m in \u001b[0;36m<module>\u001b[0;34m\u001b[0m\n\u001b[1;32m      1\u001b[0m \u001b[0;32mfor\u001b[0m \u001b[0midx\u001b[0m \u001b[0;32min\u001b[0m \u001b[0mrange\u001b[0m\u001b[0;34m(\u001b[0m\u001b[0mlen\u001b[0m\u001b[0;34m(\u001b[0m\u001b[0mnii_images\u001b[0m\u001b[0;34m)\u001b[0m\u001b[0;34m)\u001b[0m\u001b[0;34m:\u001b[0m\u001b[0;34m\u001b[0m\u001b[0;34m\u001b[0m\u001b[0m\n\u001b[0;32m----> 2\u001b[0;31m   \u001b[0mvalue\u001b[0m\u001b[0;34m,\u001b[0m \u001b[0mcounts\u001b[0m \u001b[0;34m=\u001b[0m \u001b[0mnp\u001b[0m\u001b[0;34m.\u001b[0m\u001b[0munique\u001b[0m\u001b[0;34m(\u001b[0m\u001b[0mtrain_intensitiy\u001b[0m\u001b[0;34m[\u001b[0m\u001b[0midx\u001b[0m\u001b[0;34m]\u001b[0m\u001b[0;34m.\u001b[0m\u001b[0mflatten\u001b[0m\u001b[0;34m(\u001b[0m\u001b[0;34m)\u001b[0m\u001b[0;34m,\u001b[0m \u001b[0mreturn_counts\u001b[0m\u001b[0;34m=\u001b[0m\u001b[0;32mTrue\u001b[0m\u001b[0;34m)\u001b[0m\u001b[0;34m\u001b[0m\u001b[0;34m\u001b[0m\u001b[0m\n\u001b[0m\u001b[1;32m      3\u001b[0m \u001b[0;34m\u001b[0m\u001b[0m\n\u001b[1;32m      4\u001b[0m   \u001b[0;32mfor\u001b[0m \u001b[0mk\u001b[0m\u001b[0;34m,\u001b[0m \u001b[0mv\u001b[0m \u001b[0;32min\u001b[0m \u001b[0mzip\u001b[0m\u001b[0;34m(\u001b[0m\u001b[0mvalue\u001b[0m\u001b[0;34m,\u001b[0m \u001b[0mcounts\u001b[0m\u001b[0;34m)\u001b[0m\u001b[0;34m:\u001b[0m\u001b[0;34m\u001b[0m\u001b[0;34m\u001b[0m\u001b[0m\n\u001b[1;32m      5\u001b[0m     \u001b[0mtrain_hist_dict\u001b[0m\u001b[0;34m[\u001b[0m\u001b[0mstr\u001b[0m\u001b[0;34m(\u001b[0m\u001b[0mint\u001b[0m\u001b[0;34m(\u001b[0m\u001b[0mk\u001b[0m\u001b[0;34m)\u001b[0m\u001b[0;34m)\u001b[0m\u001b[0;34m]\u001b[0m \u001b[0;34m+=\u001b[0m \u001b[0mv\u001b[0m\u001b[0;34m.\u001b[0m\u001b[0mitem\u001b[0m\u001b[0;34m(\u001b[0m\u001b[0;34m)\u001b[0m\u001b[0;34m\u001b[0m\u001b[0;34m\u001b[0m\u001b[0m\n",
      "\u001b[0;32m<__array_function__ internals>\u001b[0m in \u001b[0;36munique\u001b[0;34m(*args, **kwargs)\u001b[0m\n",
      "\u001b[0;32m/usr/local/lib/python3.6/dist-packages/numpy/lib/arraysetops.py\u001b[0m in \u001b[0;36munique\u001b[0;34m(ar, return_index, return_inverse, return_counts, axis)\u001b[0m\n\u001b[1;32m    261\u001b[0m     \u001b[0mar\u001b[0m \u001b[0;34m=\u001b[0m \u001b[0mnp\u001b[0m\u001b[0;34m.\u001b[0m\u001b[0masanyarray\u001b[0m\u001b[0;34m(\u001b[0m\u001b[0mar\u001b[0m\u001b[0;34m)\u001b[0m\u001b[0;34m\u001b[0m\u001b[0;34m\u001b[0m\u001b[0m\n\u001b[1;32m    262\u001b[0m     \u001b[0;32mif\u001b[0m \u001b[0maxis\u001b[0m \u001b[0;32mis\u001b[0m \u001b[0;32mNone\u001b[0m\u001b[0;34m:\u001b[0m\u001b[0;34m\u001b[0m\u001b[0;34m\u001b[0m\u001b[0m\n\u001b[0;32m--> 263\u001b[0;31m         \u001b[0mret\u001b[0m \u001b[0;34m=\u001b[0m \u001b[0m_unique1d\u001b[0m\u001b[0;34m(\u001b[0m\u001b[0mar\u001b[0m\u001b[0;34m,\u001b[0m \u001b[0mreturn_index\u001b[0m\u001b[0;34m,\u001b[0m \u001b[0mreturn_inverse\u001b[0m\u001b[0;34m,\u001b[0m \u001b[0mreturn_counts\u001b[0m\u001b[0;34m)\u001b[0m\u001b[0;34m\u001b[0m\u001b[0;34m\u001b[0m\u001b[0m\n\u001b[0m\u001b[1;32m    264\u001b[0m         \u001b[0;32mreturn\u001b[0m \u001b[0m_unpack_tuple\u001b[0m\u001b[0;34m(\u001b[0m\u001b[0mret\u001b[0m\u001b[0;34m)\u001b[0m\u001b[0;34m\u001b[0m\u001b[0;34m\u001b[0m\u001b[0m\n\u001b[1;32m    265\u001b[0m \u001b[0;34m\u001b[0m\u001b[0m\n",
      "\u001b[0;32m/usr/local/lib/python3.6/dist-packages/numpy/lib/arraysetops.py\u001b[0m in \u001b[0;36m_unique1d\u001b[0;34m(ar, return_index, return_inverse, return_counts)\u001b[0m\n\u001b[1;32m    301\u001b[0m     \u001b[0mFind\u001b[0m \u001b[0mthe\u001b[0m \u001b[0munique\u001b[0m \u001b[0melements\u001b[0m \u001b[0mof\u001b[0m \u001b[0man\u001b[0m \u001b[0marray\u001b[0m\u001b[0;34m,\u001b[0m \u001b[0mignoring\u001b[0m \u001b[0mshape\u001b[0m\u001b[0;34m.\u001b[0m\u001b[0;34m\u001b[0m\u001b[0;34m\u001b[0m\u001b[0m\n\u001b[1;32m    302\u001b[0m     \"\"\"\n\u001b[0;32m--> 303\u001b[0;31m     \u001b[0mar\u001b[0m \u001b[0;34m=\u001b[0m \u001b[0mnp\u001b[0m\u001b[0;34m.\u001b[0m\u001b[0masanyarray\u001b[0m\u001b[0;34m(\u001b[0m\u001b[0mar\u001b[0m\u001b[0;34m)\u001b[0m\u001b[0;34m.\u001b[0m\u001b[0mflatten\u001b[0m\u001b[0;34m(\u001b[0m\u001b[0;34m)\u001b[0m\u001b[0;34m\u001b[0m\u001b[0;34m\u001b[0m\u001b[0m\n\u001b[0m\u001b[1;32m    304\u001b[0m \u001b[0;34m\u001b[0m\u001b[0m\n\u001b[1;32m    305\u001b[0m     \u001b[0moptional_indices\u001b[0m \u001b[0;34m=\u001b[0m \u001b[0mreturn_index\u001b[0m \u001b[0;32mor\u001b[0m \u001b[0mreturn_inverse\u001b[0m\u001b[0;34m\u001b[0m\u001b[0;34m\u001b[0m\u001b[0m\n",
      "\u001b[0;31mKeyboardInterrupt\u001b[0m: "
     ]
    }
   ],
   "source": [
    "for idx in range(len(nii_images)):\n",
    "  value, counts = np.unique(train_intensitiy[idx].flatten(), return_counts=True)\n",
    "\n",
    "  for k, v in zip(value, counts):\n",
    "    train_hist_dict[str(int(k))] += v.item()"
   ]
  },
  {
   "cell_type": "code",
   "execution_count": null,
   "id": "useful-tenant",
   "metadata": {},
   "outputs": [],
   "source": [
    "import pandas as pd\n",
    "\n",
    "df = pd.DataFrame()\n",
    "df['intensity'] = list(map(int, train_hist_dict.keys()))\n",
    "df['freq']      = train_hist_dict.values()"
   ]
  },
  {
   "cell_type": "code",
   "execution_count": null,
   "id": "determined-stylus",
   "metadata": {},
   "outputs": [],
   "source": []
  },
  {
   "cell_type": "code",
   "execution_count": null,
   "id": "adopted-rainbow",
   "metadata": {},
   "outputs": [],
   "source": []
  },
  {
   "cell_type": "code",
   "execution_count": null,
   "id": "close-psychiatry",
   "metadata": {},
   "outputs": [],
   "source": []
  },
  {
   "cell_type": "code",
   "execution_count": null,
   "id": "searching-roberts",
   "metadata": {},
   "outputs": [],
   "source": []
  },
  {
   "cell_type": "markdown",
   "id": "rubber-experience",
   "metadata": {},
   "source": [
    "# Data 분포 분석"
   ]
  },
  {
   "cell_type": "code",
   "execution_count": 111,
   "id": "previous-dress",
   "metadata": {},
   "outputs": [
    {
     "data": {
      "text/html": [
       "<div>\n",
       "<style scoped>\n",
       "    .dataframe tbody tr th:only-of-type {\n",
       "        vertical-align: middle;\n",
       "    }\n",
       "\n",
       "    .dataframe tbody tr th {\n",
       "        vertical-align: top;\n",
       "    }\n",
       "\n",
       "    .dataframe thead th {\n",
       "        text-align: right;\n",
       "    }\n",
       "</style>\n",
       "<table border=\"1\" class=\"dataframe\">\n",
       "  <thead>\n",
       "    <tr style=\"text-align: right;\">\n",
       "      <th></th>\n",
       "      <th>Anonymized ID</th>\n",
       "      <th>Num Files</th>\n",
       "      <th>Patient Age</th>\n",
       "      <th>Gender</th>\n",
       "      <th>Study Date</th>\n",
       "      <th>Manufacturer</th>\n",
       "      <th>Manufacturer's Model Name</th>\n",
       "      <th>Software Versions</th>\n",
       "      <th>Convolution Kernel</th>\n",
       "      <th>Filter Type</th>\n",
       "      <th>KVP</th>\n",
       "      <th>X-ray Tube Current</th>\n",
       "      <th>Slice Thickness</th>\n",
       "      <th>Interval</th>\n",
       "      <th>Pixel Spacing</th>\n",
       "      <th>Unnamed: 16</th>\n",
       "      <th>check E</th>\n",
       "    </tr>\n",
       "    <tr>\n",
       "      <th>Num</th>\n",
       "      <th></th>\n",
       "      <th></th>\n",
       "      <th></th>\n",
       "      <th></th>\n",
       "      <th></th>\n",
       "      <th></th>\n",
       "      <th></th>\n",
       "      <th></th>\n",
       "      <th></th>\n",
       "      <th></th>\n",
       "      <th></th>\n",
       "      <th></th>\n",
       "      <th></th>\n",
       "      <th></th>\n",
       "      <th></th>\n",
       "      <th></th>\n",
       "      <th></th>\n",
       "    </tr>\n",
       "  </thead>\n",
       "  <tbody>\n",
       "    <tr>\n",
       "      <th>000001</th>\n",
       "      <td>IE000001</td>\n",
       "      <td>NaN</td>\n",
       "      <td>061Y</td>\n",
       "      <td>M</td>\n",
       "      <td>20190116</td>\n",
       "      <td>SIEMENS</td>\n",
       "      <td>SOMATOM Definition Edge</td>\n",
       "      <td>syngo CT 2012B</td>\n",
       "      <td>B50f</td>\n",
       "      <td>FLAT</td>\n",
       "      <td>120</td>\n",
       "      <td>312.0</td>\n",
       "      <td>1.000</td>\n",
       "      <td>1</td>\n",
       "      <td>0.66796875\\0.66796875</td>\n",
       "      <td>NaN</td>\n",
       "      <td>IE</td>\n",
       "    </tr>\n",
       "    <tr>\n",
       "      <th>000001</th>\n",
       "      <td>OE000001</td>\n",
       "      <td>116.0</td>\n",
       "      <td>061Y</td>\n",
       "      <td>M</td>\n",
       "      <td>20181119</td>\n",
       "      <td>SIEMENS</td>\n",
       "      <td>SOMATOM Definition Flash</td>\n",
       "      <td>syngo CT VA48A</td>\n",
       "      <td>B60f</td>\n",
       "      <td>WEDGE_3</td>\n",
       "      <td>100</td>\n",
       "      <td>646.0</td>\n",
       "      <td>3.000</td>\n",
       "      <td>3</td>\n",
       "      <td>0.673828125\\0.673828125</td>\n",
       "      <td>NaN</td>\n",
       "      <td>OE</td>\n",
       "    </tr>\n",
       "    <tr>\n",
       "      <th>000002</th>\n",
       "      <td>IE000002</td>\n",
       "      <td>NaN</td>\n",
       "      <td>072Y</td>\n",
       "      <td>F</td>\n",
       "      <td>20161027</td>\n",
       "      <td>GE MEDICAL SYSTEMS</td>\n",
       "      <td>LightSpeed VCT</td>\n",
       "      <td>gmp_vct.26</td>\n",
       "      <td>DETAIL</td>\n",
       "      <td>BODY FILTER</td>\n",
       "      <td>120</td>\n",
       "      <td>174.0</td>\n",
       "      <td>0.625</td>\n",
       "      <td>0.625</td>\n",
       "      <td>0.683594\\0.683594</td>\n",
       "      <td>NaN</td>\n",
       "      <td>IE</td>\n",
       "    </tr>\n",
       "    <tr>\n",
       "      <th>000002</th>\n",
       "      <td>OE000002</td>\n",
       "      <td>306.0</td>\n",
       "      <td>072Y</td>\n",
       "      <td>F</td>\n",
       "      <td>20160512</td>\n",
       "      <td>Philips</td>\n",
       "      <td>Brilliance 64</td>\n",
       "      <td>2.6.2</td>\n",
       "      <td>YB</td>\n",
       "      <td>YB</td>\n",
       "      <td>120</td>\n",
       "      <td>376.0</td>\n",
       "      <td>1.000</td>\n",
       "      <td>1</td>\n",
       "      <td>0.68359375\\0.68359375</td>\n",
       "      <td>NaN</td>\n",
       "      <td>OE</td>\n",
       "    </tr>\n",
       "    <tr>\n",
       "      <th>000003</th>\n",
       "      <td>IE000003</td>\n",
       "      <td>NaN</td>\n",
       "      <td>059Y</td>\n",
       "      <td>F</td>\n",
       "      <td>20181008</td>\n",
       "      <td>SIEMENS</td>\n",
       "      <td>SOMATOM Definition Edge</td>\n",
       "      <td>syngo CT 2012B</td>\n",
       "      <td>B50f</td>\n",
       "      <td>FLAT</td>\n",
       "      <td>120</td>\n",
       "      <td>194.0</td>\n",
       "      <td>1.000</td>\n",
       "      <td>1</td>\n",
       "      <td>0.6328125\\0.6328125</td>\n",
       "      <td>NaN</td>\n",
       "      <td>IE</td>\n",
       "    </tr>\n",
       "  </tbody>\n",
       "</table>\n",
       "</div>"
      ],
      "text/plain": [
       "       Anonymized ID  Num Files Patient Age Gender  Study Date  \\\n",
       "Num                                                              \n",
       "000001      IE000001        NaN        061Y      M    20190116   \n",
       "000001      OE000001      116.0        061Y      M    20181119   \n",
       "000002      IE000002        NaN        072Y      F    20161027   \n",
       "000002      OE000002      306.0        072Y      F    20160512   \n",
       "000003      IE000003        NaN        059Y      F    20181008   \n",
       "\n",
       "              Manufacturer Manufacturer's Model Name Software Versions  \\\n",
       "Num                                                                      \n",
       "000001             SIEMENS   SOMATOM Definition Edge    syngo CT 2012B   \n",
       "000001             SIEMENS  SOMATOM Definition Flash    syngo CT VA48A   \n",
       "000002  GE MEDICAL SYSTEMS            LightSpeed VCT        gmp_vct.26   \n",
       "000002             Philips             Brilliance 64             2.6.2   \n",
       "000003             SIEMENS   SOMATOM Definition Edge    syngo CT 2012B   \n",
       "\n",
       "       Convolution Kernel  Filter Type  KVP  X-ray Tube Current  \\\n",
       "Num                                                               \n",
       "000001               B50f         FLAT  120               312.0   \n",
       "000001               B60f      WEDGE_3  100               646.0   \n",
       "000002             DETAIL  BODY FILTER  120               174.0   \n",
       "000002                 YB           YB  120               376.0   \n",
       "000003               B50f         FLAT  120               194.0   \n",
       "\n",
       "        Slice Thickness Interval            Pixel Spacing  Unnamed: 16 check E  \n",
       "Num                                                                             \n",
       "000001            1.000        1    0.66796875\\0.66796875          NaN      IE  \n",
       "000001            3.000        3  0.673828125\\0.673828125          NaN      OE  \n",
       "000002            0.625    0.625        0.683594\\0.683594          NaN      IE  \n",
       "000002            1.000        1    0.68359375\\0.68359375          NaN      OE  \n",
       "000003            1.000        1      0.6328125\\0.6328125          NaN      IE  "
      ]
     },
     "execution_count": 111,
     "metadata": {},
     "output_type": "execute_result"
    }
   ],
   "source": [
    "E_df.head()"
   ]
  },
  {
   "cell_type": "code",
   "execution_count": 130,
   "id": "major-gazette",
   "metadata": {},
   "outputs": [],
   "source": [
    "import glob\n",
    "def cut_name(x):\n",
    "    return x.split('/')[-2]\n",
    "\n",
    "nii_images  = sorted(glob.glob(\"/workspace/sunggu/5.CT_Standardization/dataset/NII_Pair_CT_dataset/*Enhance/*/*.nii.gz\"))"
   ]
  },
  {
   "cell_type": "code",
   "execution_count": 131,
   "id": "amended-montgomery",
   "metadata": {},
   "outputs": [],
   "source": [
    "empty = []\n",
    "for i in list(map(cut_name, nii_images)):\n",
    "    if i in E_df[ (E_df['Manufacturer']=='TOSHIBA')]['Anonymized ID'].values:\n",
    "        empty.append(i)"
   ]
  },
  {
   "cell_type": "code",
   "execution_count": 95,
   "id": "pressed-delta",
   "metadata": {},
   "outputs": [
    {
     "data": {
      "text/plain": [
       "55"
      ]
     },
     "execution_count": 95,
     "metadata": {},
     "output_type": "execute_result"
    }
   ],
   "source": [
    "len(empty)"
   ]
  },
  {
   "cell_type": "code",
   "execution_count": 89,
   "id": "viral-mother",
   "metadata": {},
   "outputs": [
    {
     "data": {
      "text/plain": [
       "array(['SIEMENS', 'GE MEDICAL SYSTEMS', 'Philips', 'TOSHIBA', 'INFINITT',\n",
       "       'PNMS', 'Hitachi Medical Corporation'], dtype=object)"
      ]
     },
     "execution_count": 89,
     "metadata": {},
     "output_type": "execute_result"
    }
   ],
   "source": [
    "E_df['Manufacturer'].unique()"
   ]
  },
  {
   "cell_type": "code",
   "execution_count": null,
   "id": "intermediate-fruit",
   "metadata": {},
   "outputs": [],
   "source": []
  },
  {
   "cell_type": "code",
   "execution_count": 56,
   "id": "cellular-filling",
   "metadata": {},
   "outputs": [
    {
     "data": {
      "text/html": [
       "<div>\n",
       "<style scoped>\n",
       "    .dataframe tbody tr th:only-of-type {\n",
       "        vertical-align: middle;\n",
       "    }\n",
       "\n",
       "    .dataframe tbody tr th {\n",
       "        vertical-align: top;\n",
       "    }\n",
       "\n",
       "    .dataframe thead th {\n",
       "        text-align: right;\n",
       "    }\n",
       "</style>\n",
       "<table border=\"1\" class=\"dataframe\">\n",
       "  <thead>\n",
       "    <tr style=\"text-align: right;\">\n",
       "      <th></th>\n",
       "      <th>Menu</th>\n",
       "      <th>Count</th>\n",
       "    </tr>\n",
       "  </thead>\n",
       "  <tbody>\n",
       "    <tr>\n",
       "      <th>13</th>\n",
       "      <td>B50f</td>\n",
       "      <td>380</td>\n",
       "    </tr>\n",
       "    <tr>\n",
       "      <th>3</th>\n",
       "      <td>B31f</td>\n",
       "      <td>30</td>\n",
       "    </tr>\n",
       "    <tr>\n",
       "      <th>1</th>\n",
       "      <td>B30f</td>\n",
       "      <td>22</td>\n",
       "    </tr>\n",
       "    <tr>\n",
       "      <th>17</th>\n",
       "      <td>B70f</td>\n",
       "      <td>17</td>\n",
       "    </tr>\n",
       "    <tr>\n",
       "      <th>14</th>\n",
       "      <td>B50s</td>\n",
       "      <td>13</td>\n",
       "    </tr>\n",
       "    <tr>\n",
       "      <th>20</th>\n",
       "      <td>Br49d\\2</td>\n",
       "      <td>11</td>\n",
       "    </tr>\n",
       "    <tr>\n",
       "      <th>9</th>\n",
       "      <td>B41s</td>\n",
       "      <td>11</td>\n",
       "    </tr>\n",
       "    <tr>\n",
       "      <th>26</th>\n",
       "      <td>I40f\\2</td>\n",
       "      <td>11</td>\n",
       "    </tr>\n",
       "    <tr>\n",
       "      <th>6</th>\n",
       "      <td>B40f</td>\n",
       "      <td>10</td>\n",
       "    </tr>\n",
       "    <tr>\n",
       "      <th>15</th>\n",
       "      <td>B60f</td>\n",
       "      <td>10</td>\n",
       "    </tr>\n",
       "    <tr>\n",
       "      <th>8</th>\n",
       "      <td>B41f</td>\n",
       "      <td>9</td>\n",
       "    </tr>\n",
       "    <tr>\n",
       "      <th>30</th>\n",
       "      <td>I50f\\2</td>\n",
       "      <td>8</td>\n",
       "    </tr>\n",
       "    <tr>\n",
       "      <th>16</th>\n",
       "      <td>B60s</td>\n",
       "      <td>7</td>\n",
       "    </tr>\n",
       "    <tr>\n",
       "      <th>11</th>\n",
       "      <td>B46f</td>\n",
       "      <td>4</td>\n",
       "    </tr>\n",
       "    <tr>\n",
       "      <th>7</th>\n",
       "      <td>B40s</td>\n",
       "      <td>3</td>\n",
       "    </tr>\n",
       "    <tr>\n",
       "      <th>18</th>\n",
       "      <td>B70s</td>\n",
       "      <td>3</td>\n",
       "    </tr>\n",
       "    <tr>\n",
       "      <th>10</th>\n",
       "      <td>B45f</td>\n",
       "      <td>3</td>\n",
       "    </tr>\n",
       "    <tr>\n",
       "      <th>25</th>\n",
       "      <td>I40f\\1</td>\n",
       "      <td>3</td>\n",
       "    </tr>\n",
       "    <tr>\n",
       "      <th>23</th>\n",
       "      <td>I30f\\2</td>\n",
       "      <td>2</td>\n",
       "    </tr>\n",
       "    <tr>\n",
       "      <th>29</th>\n",
       "      <td>I50f\\1</td>\n",
       "      <td>2</td>\n",
       "    </tr>\n",
       "    <tr>\n",
       "      <th>27</th>\n",
       "      <td>I40s</td>\n",
       "      <td>1</td>\n",
       "    </tr>\n",
       "    <tr>\n",
       "      <th>24</th>\n",
       "      <td>I31f\\1</td>\n",
       "      <td>1</td>\n",
       "    </tr>\n",
       "    <tr>\n",
       "      <th>31</th>\n",
       "      <td>I70f\\1</td>\n",
       "      <td>1</td>\n",
       "    </tr>\n",
       "    <tr>\n",
       "      <th>28</th>\n",
       "      <td>I41f\\2</td>\n",
       "      <td>1</td>\n",
       "    </tr>\n",
       "    <tr>\n",
       "      <th>0</th>\n",
       "      <td>B26f</td>\n",
       "      <td>1</td>\n",
       "    </tr>\n",
       "    <tr>\n",
       "      <th>22</th>\n",
       "      <td>I30f\\1</td>\n",
       "      <td>1</td>\n",
       "    </tr>\n",
       "    <tr>\n",
       "      <th>21</th>\n",
       "      <td>Br59d\\3</td>\n",
       "      <td>1</td>\n",
       "    </tr>\n",
       "    <tr>\n",
       "      <th>19</th>\n",
       "      <td>Br40d\\3</td>\n",
       "      <td>1</td>\n",
       "    </tr>\n",
       "    <tr>\n",
       "      <th>12</th>\n",
       "      <td>B50S</td>\n",
       "      <td>1</td>\n",
       "    </tr>\n",
       "    <tr>\n",
       "      <th>5</th>\n",
       "      <td>B35f</td>\n",
       "      <td>1</td>\n",
       "    </tr>\n",
       "    <tr>\n",
       "      <th>4</th>\n",
       "      <td>B31s</td>\n",
       "      <td>1</td>\n",
       "    </tr>\n",
       "    <tr>\n",
       "      <th>2</th>\n",
       "      <td>B30s</td>\n",
       "      <td>1</td>\n",
       "    </tr>\n",
       "    <tr>\n",
       "      <th>32</th>\n",
       "      <td>I70f\\2</td>\n",
       "      <td>1</td>\n",
       "    </tr>\n",
       "  </tbody>\n",
       "</table>\n",
       "</div>"
      ],
      "text/plain": [
       "       Menu  Count\n",
       "13     B50f    380\n",
       "3      B31f     30\n",
       "1      B30f     22\n",
       "17     B70f     17\n",
       "14     B50s     13\n",
       "20  Br49d\\2     11\n",
       "9      B41s     11\n",
       "26   I40f\\2     11\n",
       "6      B40f     10\n",
       "15     B60f     10\n",
       "8      B41f      9\n",
       "30   I50f\\2      8\n",
       "16     B60s      7\n",
       "11     B46f      4\n",
       "7      B40s      3\n",
       "18     B70s      3\n",
       "10     B45f      3\n",
       "25   I40f\\1      3\n",
       "23   I30f\\2      2\n",
       "29   I50f\\1      2\n",
       "27     I40s      1\n",
       "24   I31f\\1      1\n",
       "31   I70f\\1      1\n",
       "28   I41f\\2      1\n",
       "0      B26f      1\n",
       "22   I30f\\1      1\n",
       "21  Br59d\\3      1\n",
       "19  Br40d\\3      1\n",
       "12     B50S      1\n",
       "5      B35f      1\n",
       "4      B31s      1\n",
       "2      B30s      1\n",
       "32   I70f\\2      1"
      ]
     },
     "execution_count": 56,
     "metadata": {},
     "output_type": "execute_result"
    }
   ],
   "source": [
    "cluster, counts = np.unique(E_df[ (E_df['Manufacturer']=='SIEMENS')]['Convolution Kernel'].values, return_counts=True)\n",
    "df = pd.DataFrame()\n",
    "df['Menu']  = cluster\n",
    "df['Count'] = counts \n",
    "df.sort_values(\"Count\", ascending=False)"
   ]
  },
  {
   "cell_type": "code",
   "execution_count": 52,
   "id": "chemical-container",
   "metadata": {},
   "outputs": [
    {
     "data": {
      "text/html": [
       "<div>\n",
       "<style scoped>\n",
       "    .dataframe tbody tr th:only-of-type {\n",
       "        vertical-align: middle;\n",
       "    }\n",
       "\n",
       "    .dataframe tbody tr th {\n",
       "        vertical-align: top;\n",
       "    }\n",
       "\n",
       "    .dataframe thead th {\n",
       "        text-align: right;\n",
       "    }\n",
       "</style>\n",
       "<table border=\"1\" class=\"dataframe\">\n",
       "  <thead>\n",
       "    <tr style=\"text-align: right;\">\n",
       "      <th></th>\n",
       "      <th>Menu</th>\n",
       "      <th>Count</th>\n",
       "    </tr>\n",
       "  </thead>\n",
       "  <tbody>\n",
       "    <tr>\n",
       "      <th>3</th>\n",
       "      <td>3.0</td>\n",
       "      <td>19</td>\n",
       "    </tr>\n",
       "    <tr>\n",
       "      <th>5</th>\n",
       "      <td>5.0</td>\n",
       "      <td>5</td>\n",
       "    </tr>\n",
       "    <tr>\n",
       "      <th>0</th>\n",
       "      <td>1.0</td>\n",
       "      <td>2</td>\n",
       "    </tr>\n",
       "    <tr>\n",
       "      <th>4</th>\n",
       "      <td>4.0</td>\n",
       "      <td>2</td>\n",
       "    </tr>\n",
       "    <tr>\n",
       "      <th>1</th>\n",
       "      <td>1.5</td>\n",
       "      <td>1</td>\n",
       "    </tr>\n",
       "    <tr>\n",
       "      <th>2</th>\n",
       "      <td>2.0</td>\n",
       "      <td>1</td>\n",
       "    </tr>\n",
       "  </tbody>\n",
       "</table>\n",
       "</div>"
      ],
      "text/plain": [
       "   Menu  Count\n",
       "3   3.0     19\n",
       "5   5.0      5\n",
       "0   1.0      2\n",
       "4   4.0      2\n",
       "1   1.5      1\n",
       "2   2.0      1"
      ]
     },
     "execution_count": 52,
     "metadata": {},
     "output_type": "execute_result"
    }
   ],
   "source": [
    "cluster, counts = np.unique(E_df[ (E_df['Manufacturer']=='SIEMENS') & (E_df['Convolution Kernel']=='B31f') ]['Slice Thickness'].values, return_counts=True)\n",
    "df = pd.DataFrame()\n",
    "df['Menu']  = cluster\n",
    "df['Count'] = counts \n",
    "df.sort_values(\"Count\", ascending=False)"
   ]
  },
  {
   "cell_type": "code",
   "execution_count": null,
   "id": "modern-practitioner",
   "metadata": {},
   "outputs": [],
   "source": [
    "E_df['Slice Thickness']"
   ]
  },
  {
   "cell_type": "code",
   "execution_count": 53,
   "id": "conceptual-administration",
   "metadata": {},
   "outputs": [
    {
     "data": {
      "text/html": [
       "<div>\n",
       "<style scoped>\n",
       "    .dataframe tbody tr th:only-of-type {\n",
       "        vertical-align: middle;\n",
       "    }\n",
       "\n",
       "    .dataframe tbody tr th {\n",
       "        vertical-align: top;\n",
       "    }\n",
       "\n",
       "    .dataframe thead th {\n",
       "        text-align: right;\n",
       "    }\n",
       "</style>\n",
       "<table border=\"1\" class=\"dataframe\">\n",
       "  <thead>\n",
       "    <tr style=\"text-align: right;\">\n",
       "      <th></th>\n",
       "      <th>Manu</th>\n",
       "      <th>Count</th>\n",
       "    </tr>\n",
       "  </thead>\n",
       "  <tbody>\n",
       "    <tr>\n",
       "      <th>1</th>\n",
       "      <td>FC03</td>\n",
       "      <td>1</td>\n",
       "    </tr>\n",
       "    <tr>\n",
       "      <th>3</th>\n",
       "      <td>FC07</td>\n",
       "      <td>1</td>\n",
       "    </tr>\n",
       "    <tr>\n",
       "      <th>5</th>\n",
       "      <td>FC10</td>\n",
       "      <td>1</td>\n",
       "    </tr>\n",
       "    <tr>\n",
       "      <th>11</th>\n",
       "      <td>FC53</td>\n",
       "      <td>1</td>\n",
       "    </tr>\n",
       "    <tr>\n",
       "      <th>12</th>\n",
       "      <td>FC55</td>\n",
       "      <td>1</td>\n",
       "    </tr>\n",
       "    <tr>\n",
       "      <th>13</th>\n",
       "      <td>FC56</td>\n",
       "      <td>1</td>\n",
       "    </tr>\n",
       "    <tr>\n",
       "      <th>14</th>\n",
       "      <td>FC81</td>\n",
       "      <td>1</td>\n",
       "    </tr>\n",
       "    <tr>\n",
       "      <th>0</th>\n",
       "      <td>FC01</td>\n",
       "      <td>2</td>\n",
       "    </tr>\n",
       "    <tr>\n",
       "      <th>7</th>\n",
       "      <td>FC17</td>\n",
       "      <td>2</td>\n",
       "    </tr>\n",
       "    <tr>\n",
       "      <th>10</th>\n",
       "      <td>FC52</td>\n",
       "      <td>2</td>\n",
       "    </tr>\n",
       "    <tr>\n",
       "      <th>15</th>\n",
       "      <td>FC86</td>\n",
       "      <td>2</td>\n",
       "    </tr>\n",
       "    <tr>\n",
       "      <th>8</th>\n",
       "      <td>FC18</td>\n",
       "      <td>5</td>\n",
       "    </tr>\n",
       "    <tr>\n",
       "      <th>6</th>\n",
       "      <td>FC13</td>\n",
       "      <td>6</td>\n",
       "    </tr>\n",
       "    <tr>\n",
       "      <th>2</th>\n",
       "      <td>FC04</td>\n",
       "      <td>8</td>\n",
       "    </tr>\n",
       "    <tr>\n",
       "      <th>9</th>\n",
       "      <td>FC51</td>\n",
       "      <td>8</td>\n",
       "    </tr>\n",
       "    <tr>\n",
       "      <th>4</th>\n",
       "      <td>FC08</td>\n",
       "      <td>13</td>\n",
       "    </tr>\n",
       "  </tbody>\n",
       "</table>\n",
       "</div>"
      ],
      "text/plain": [
       "    Manu  Count\n",
       "1   FC03      1\n",
       "3   FC07      1\n",
       "5   FC10      1\n",
       "11  FC53      1\n",
       "12  FC55      1\n",
       "13  FC56      1\n",
       "14  FC81      1\n",
       "0   FC01      2\n",
       "7   FC17      2\n",
       "10  FC52      2\n",
       "15  FC86      2\n",
       "8   FC18      5\n",
       "6   FC13      6\n",
       "2   FC04      8\n",
       "9   FC51      8\n",
       "4   FC08     13"
      ]
     },
     "execution_count": 53,
     "metadata": {},
     "output_type": "execute_result"
    }
   ],
   "source": [
    "b = E_df[(E_df['check E'] == 'OE') & (E_df['Manufacturer'] == 'TOSHIBA')]['Convolution Kernel'].values\n",
    "\n",
    "cluster, counts = np.unique(list(map(str, b)), return_counts=True)\n",
    "df = pd.DataFrame()\n",
    "df['Manu']  = cluster\n",
    "df['Count'] = counts \n",
    "df.sort_values(\"Count\")"
   ]
  },
  {
   "cell_type": "markdown",
   "id": "dental-baltimore",
   "metadata": {},
   "source": [
    "# Dataset 구성"
   ]
  },
  {
   "cell_type": "code",
   "execution_count": 16,
   "id": "precious-range",
   "metadata": {},
   "outputs": [],
   "source": [
    "import numpy as np\n",
    "import pandas as pd"
   ]
  },
  {
   "cell_type": "code",
   "execution_count": 49,
   "id": "threatened-welsh",
   "metadata": {},
   "outputs": [],
   "source": [
    "E_df = pd.read_excel('/workspace/sunggu/5.CT_Standardization/dataset/NII_Pair_CT_dataset/Enhance_O_df.xlsx', engine='openpyxl', index_col=0) \n",
    "N_df = pd.read_excel('/workspace/sunggu/5.CT_Standardization/dataset/NII_Pair_CT_dataset/Enhance_X_df.xlsx', engine='openpyxl', index_col=0) \n",
    "E_df['Mode'] = 'Train'\n",
    "N_df['Mode'] = 'Train'"
   ]
  },
  {
   "cell_type": "code",
   "execution_count": 50,
   "id": "demonstrated-ultimate",
   "metadata": {},
   "outputs": [
    {
     "data": {
      "text/plain": [
       "379"
      ]
     },
     "execution_count": 50,
     "metadata": {},
     "output_type": "execute_result"
    }
   ],
   "source": [
    "len(E_df[ (E_df['Manufacturer'] == 'SIEMENS') & (E_df['Convolution Kernel'] == 'B50f')])"
   ]
  },
  {
   "cell_type": "code",
   "execution_count": 51,
   "id": "applicable-macedonia",
   "metadata": {},
   "outputs": [
    {
     "data": {
      "text/plain": [
       "52"
      ]
     },
     "execution_count": 51,
     "metadata": {},
     "output_type": "execute_result"
    }
   ],
   "source": [
    "len(E_df[ (E_df['Manufacturer'] == 'SIEMENS') & (E_df['Convolution Kernel'] == 'B30f')])"
   ]
  },
  {
   "cell_type": "code",
   "execution_count": 52,
   "id": "electoral-franklin",
   "metadata": {},
   "outputs": [
    {
     "data": {
      "text/plain": [
       "17"
      ]
     },
     "execution_count": 52,
     "metadata": {},
     "output_type": "execute_result"
    }
   ],
   "source": [
    "len(E_df[ (E_df['Manufacturer'] == 'SIEMENS') & (E_df['Convolution Kernel'] == 'B70f')])"
   ]
  },
  {
   "cell_type": "markdown",
   "id": "silver-forestry",
   "metadata": {},
   "source": [
    "## SIEMENS"
   ]
  },
  {
   "cell_type": "markdown",
   "id": "middle-signature",
   "metadata": {},
   "source": [
    "##### B50f"
   ]
  },
  {
   "cell_type": "code",
   "execution_count": 53,
   "id": "institutional-produce",
   "metadata": {},
   "outputs": [],
   "source": [
    "test   = E_df[ (E_df['Manufacturer'] == 'SIEMENS') & (E_df['Convolution Kernel'] == 'B50f')].sample(n=3, replace=False, random_state=7)\n",
    "train  = E_df[ (E_df['Manufacturer'] == 'SIEMENS') & (E_df['Convolution Kernel'] == 'B50f')].drop(test.index)\n",
    "\n",
    "E_df['Mode'][E_df['Anonymized ID'].isin(test['Anonymized ID'])]  = 'Test'\n",
    "# E_df['Mode'][~E_df['Anonymized ID'].isin(test['Anonymized ID'])] = 'Train'"
   ]
  },
  {
   "cell_type": "markdown",
   "id": "grand-profession",
   "metadata": {},
   "source": [
    "##### B30f"
   ]
  },
  {
   "cell_type": "code",
   "execution_count": 54,
   "id": "fuzzy-responsibility",
   "metadata": {},
   "outputs": [],
   "source": [
    "test   = E_df[ (E_df['Manufacturer'] == 'SIEMENS') & (E_df['Convolution Kernel'] == 'B30f')].sample(n=3, replace=False, random_state=7)\n",
    "train  = E_df[ (E_df['Manufacturer'] == 'SIEMENS') & (E_df['Convolution Kernel'] == 'B30f')].drop(test.index)\n",
    "\n",
    "E_df['Mode'][E_df['Anonymized ID'].isin(test['Anonymized ID'])]  = 'Test'"
   ]
  },
  {
   "cell_type": "markdown",
   "id": "delayed-savage",
   "metadata": {},
   "source": [
    "##### B70f"
   ]
  },
  {
   "cell_type": "code",
   "execution_count": 55,
   "id": "nutritional-literacy",
   "metadata": {},
   "outputs": [],
   "source": [
    "test   = E_df[ (E_df['Manufacturer'] == 'SIEMENS') & (E_df['Convolution Kernel'] == 'B70f')].sample(n=3, replace=False, random_state=7)\n",
    "train  = E_df[ (E_df['Manufacturer'] == 'SIEMENS') & (E_df['Convolution Kernel'] == 'B70f')].drop(test.index)\n",
    "\n",
    "E_df['Mode'][E_df['Anonymized ID'].isin(test['Anonymized ID'])]  = 'Test'\n"
   ]
  },
  {
   "cell_type": "markdown",
   "id": "removable-secret",
   "metadata": {},
   "source": [
    "## GE"
   ]
  },
  {
   "cell_type": "markdown",
   "id": "amber-concentration",
   "metadata": {},
   "source": [
    "##### STANDARD"
   ]
  },
  {
   "cell_type": "code",
   "execution_count": 56,
   "id": "adapted-mouth",
   "metadata": {},
   "outputs": [],
   "source": [
    "test   = E_df[ (E_df['Manufacturer'] == 'GE MEDICAL SYSTEMS') & (E_df['Convolution Kernel'] == 'STANDARD')].sample(n=3, replace=False, random_state=7)\n",
    "train  = E_df[ (E_df['Manufacturer'] == 'GE MEDICAL SYSTEMS') & (E_df['Convolution Kernel'] == 'STANDARD')].drop(test.index)\n",
    "\n",
    "E_df['Mode'][E_df['Anonymized ID'].isin(test['Anonymized ID'])]  = 'Test'\n"
   ]
  },
  {
   "cell_type": "markdown",
   "id": "exposed-perth",
   "metadata": {},
   "source": [
    "##### DETAIL"
   ]
  },
  {
   "cell_type": "code",
   "execution_count": 57,
   "id": "blessed-fault",
   "metadata": {},
   "outputs": [],
   "source": [
    "test   = E_df[ (E_df['Manufacturer'] == 'GE MEDICAL SYSTEMS') & (E_df['Convolution Kernel'] == 'DETAIL')].sample(n=3, replace=False, random_state=7)\n",
    "train  = E_df[ (E_df['Manufacturer'] == 'GE MEDICAL SYSTEMS') & (E_df['Convolution Kernel'] == 'DETAIL')].drop(test.index)\n",
    "\n",
    "E_df['Mode'][E_df['Anonymized ID'].isin(test['Anonymized ID'])]  = 'Test'\n"
   ]
  },
  {
   "cell_type": "markdown",
   "id": "liquid-pennsylvania",
   "metadata": {},
   "source": [
    "##### CHST"
   ]
  },
  {
   "cell_type": "code",
   "execution_count": 63,
   "id": "every-postcard",
   "metadata": {},
   "outputs": [],
   "source": [
    "test   = E_df[ (E_df['Manufacturer'] == 'GE MEDICAL SYSTEMS') & (E_df['Convolution Kernel'] == 'CHST')].sample(n=3, replace=False, random_state=7)\n",
    "train  = E_df[ (E_df['Manufacturer'] == 'GE MEDICAL SYSTEMS') & (E_df['Convolution Kernel'] == 'CHST')].drop(test.index)\n",
    "\n",
    "E_df['Mode'][E_df['Anonymized ID'].isin(test['Anonymized ID'])]  = 'Test'\n"
   ]
  },
  {
   "cell_type": "markdown",
   "id": "still-banana",
   "metadata": {},
   "source": [
    "## Philips"
   ]
  },
  {
   "cell_type": "markdown",
   "id": "circular-embassy",
   "metadata": {},
   "source": [
    "##### YA"
   ]
  },
  {
   "cell_type": "code",
   "execution_count": 58,
   "id": "dental-clerk",
   "metadata": {},
   "outputs": [],
   "source": [
    "test   = E_df[ (E_df['Manufacturer'] == 'Philips') & (E_df['Convolution Kernel'] == 'YA')].sample(n=3, replace=False, random_state=7)\n",
    "train  = E_df[ (E_df['Manufacturer'] == 'Philips') & (E_df['Convolution Kernel'] == 'YA')].drop(test.index)\n",
    "\n",
    "E_df['Mode'][E_df['Anonymized ID'].isin(test['Anonymized ID'])]  = 'Test'\n"
   ]
  },
  {
   "cell_type": "markdown",
   "id": "rotary-sequence",
   "metadata": {},
   "source": [
    "##### YC"
   ]
  },
  {
   "cell_type": "code",
   "execution_count": 59,
   "id": "productive-programmer",
   "metadata": {},
   "outputs": [],
   "source": [
    "test   = E_df[ (E_df['Manufacturer'] == 'Philips') & (E_df['Convolution Kernel'] == 'YC')].sample(n=3, replace=False, random_state=7)\n",
    "train  = E_df[ (E_df['Manufacturer'] == 'Philips') & (E_df['Convolution Kernel'] == 'YC')].drop(test.index)\n",
    "\n",
    "E_df['Mode'][E_df['Anonymized ID'].isin(test['Anonymized ID'])]  = 'Test'\n"
   ]
  },
  {
   "cell_type": "markdown",
   "id": "flying-contract",
   "metadata": {},
   "source": [
    "## TOSHIBA"
   ]
  },
  {
   "cell_type": "markdown",
   "id": "noble-controversy",
   "metadata": {},
   "source": [
    "##### FC08"
   ]
  },
  {
   "cell_type": "code",
   "execution_count": 60,
   "id": "representative-swaziland",
   "metadata": {},
   "outputs": [],
   "source": [
    "test   = E_df[ (E_df['Manufacturer'] == 'TOSHIBA') & (E_df['Convolution Kernel'] == 'FC08')].sample(n=3, replace=False, random_state=7)\n",
    "train  = E_df[ (E_df['Manufacturer'] == 'TOSHIBA') & (E_df['Convolution Kernel'] == 'FC08')].drop(test.index)\n",
    "\n",
    "E_df['Mode'][E_df['Anonymized ID'].isin(test['Anonymized ID'])]  = 'Test'\n"
   ]
  },
  {
   "cell_type": "markdown",
   "id": "applied-moral",
   "metadata": {},
   "source": [
    "##### FC04"
   ]
  },
  {
   "cell_type": "code",
   "execution_count": 61,
   "id": "incredible-northern",
   "metadata": {},
   "outputs": [],
   "source": [
    "test   = E_df[ (E_df['Manufacturer'] == 'TOSHIBA') & (E_df['Convolution Kernel'] == 'FC04')].sample(n=3, replace=False, random_state=7)\n",
    "train  = E_df[ (E_df['Manufacturer'] == 'TOSHIBA') & (E_df['Convolution Kernel'] == 'FC04')].drop(test.index)\n",
    "\n",
    "E_df['Mode'][E_df['Anonymized ID'].isin(test['Anonymized ID'])]  = 'Test'\n"
   ]
  },
  {
   "cell_type": "code",
   "execution_count": 68,
   "id": "competent-causing",
   "metadata": {},
   "outputs": [],
   "source": [
    "# Save\n",
    "E_df.to_excel('/workspace/sunggu/5.CT_Standardization/dataset/NII_Pair_CT_dataset/Enhance_O_df.xlsx')"
   ]
  },
  {
   "cell_type": "code",
   "execution_count": 69,
   "id": "numeric-pursuit",
   "metadata": {},
   "outputs": [
    {
     "data": {
      "text/html": [
       "<div>\n",
       "<style scoped>\n",
       "    .dataframe tbody tr th:only-of-type {\n",
       "        vertical-align: middle;\n",
       "    }\n",
       "\n",
       "    .dataframe tbody tr th {\n",
       "        vertical-align: top;\n",
       "    }\n",
       "\n",
       "    .dataframe thead th {\n",
       "        text-align: right;\n",
       "    }\n",
       "</style>\n",
       "<table border=\"1\" class=\"dataframe\">\n",
       "  <thead>\n",
       "    <tr style=\"text-align: right;\">\n",
       "      <th></th>\n",
       "      <th>Anonymized ID</th>\n",
       "      <th>Manufacturer</th>\n",
       "      <th>Convolution Kernel</th>\n",
       "      <th>Path</th>\n",
       "      <th>Mode</th>\n",
       "    </tr>\n",
       "  </thead>\n",
       "  <tbody>\n",
       "    <tr>\n",
       "      <th>0</th>\n",
       "      <td>IE000001</td>\n",
       "      <td>SIEMENS</td>\n",
       "      <td>B50f</td>\n",
       "      <td>/workspace/sunggu/5.CT_Standardization/dataset...</td>\n",
       "      <td>Train</td>\n",
       "    </tr>\n",
       "    <tr>\n",
       "      <th>1</th>\n",
       "      <td>OE000001</td>\n",
       "      <td>SIEMENS</td>\n",
       "      <td>B60f</td>\n",
       "      <td>/workspace/sunggu/5.CT_Standardization/dataset...</td>\n",
       "      <td>Train</td>\n",
       "    </tr>\n",
       "    <tr>\n",
       "      <th>2</th>\n",
       "      <td>IE000002</td>\n",
       "      <td>GE MEDICAL SYSTEMS</td>\n",
       "      <td>DETAIL</td>\n",
       "      <td>/workspace/sunggu/5.CT_Standardization/dataset...</td>\n",
       "      <td>Train</td>\n",
       "    </tr>\n",
       "    <tr>\n",
       "      <th>3</th>\n",
       "      <td>OE000002</td>\n",
       "      <td>Philips</td>\n",
       "      <td>YB</td>\n",
       "      <td>/workspace/sunggu/5.CT_Standardization/dataset...</td>\n",
       "      <td>Train</td>\n",
       "    </tr>\n",
       "    <tr>\n",
       "      <th>4</th>\n",
       "      <td>IE000003</td>\n",
       "      <td>SIEMENS</td>\n",
       "      <td>B50f</td>\n",
       "      <td>/workspace/sunggu/5.CT_Standardization/dataset...</td>\n",
       "      <td>Train</td>\n",
       "    </tr>\n",
       "    <tr>\n",
       "      <th>...</th>\n",
       "      <td>...</td>\n",
       "      <td>...</td>\n",
       "      <td>...</td>\n",
       "      <td>...</td>\n",
       "      <td>...</td>\n",
       "    </tr>\n",
       "    <tr>\n",
       "      <th>995</th>\n",
       "      <td>OE000498</td>\n",
       "      <td>GE MEDICAL SYSTEMS</td>\n",
       "      <td>STANDARD</td>\n",
       "      <td>/workspace/sunggu/5.CT_Standardization/dataset...</td>\n",
       "      <td>Test</td>\n",
       "    </tr>\n",
       "    <tr>\n",
       "      <th>996</th>\n",
       "      <td>IE000499</td>\n",
       "      <td>SIEMENS</td>\n",
       "      <td>B50f</td>\n",
       "      <td>/workspace/sunggu/5.CT_Standardization/dataset...</td>\n",
       "      <td>Train</td>\n",
       "    </tr>\n",
       "    <tr>\n",
       "      <th>997</th>\n",
       "      <td>OE000499</td>\n",
       "      <td>SIEMENS</td>\n",
       "      <td>B50f</td>\n",
       "      <td>/workspace/sunggu/5.CT_Standardization/dataset...</td>\n",
       "      <td>Train</td>\n",
       "    </tr>\n",
       "    <tr>\n",
       "      <th>998</th>\n",
       "      <td>IE000500</td>\n",
       "      <td>GE MEDICAL SYSTEMS</td>\n",
       "      <td>CHST</td>\n",
       "      <td>/workspace/sunggu/5.CT_Standardization/dataset...</td>\n",
       "      <td>Train</td>\n",
       "    </tr>\n",
       "    <tr>\n",
       "      <th>999</th>\n",
       "      <td>OE000500</td>\n",
       "      <td>SIEMENS</td>\n",
       "      <td>B41f</td>\n",
       "      <td>/workspace/sunggu/5.CT_Standardization/dataset...</td>\n",
       "      <td>Train</td>\n",
       "    </tr>\n",
       "  </tbody>\n",
       "</table>\n",
       "<p>997 rows × 5 columns</p>\n",
       "</div>"
      ],
      "text/plain": [
       "    Anonymized ID        Manufacturer Convolution Kernel  \\\n",
       "0        IE000001             SIEMENS               B50f   \n",
       "1        OE000001             SIEMENS               B60f   \n",
       "2        IE000002  GE MEDICAL SYSTEMS             DETAIL   \n",
       "3        OE000002             Philips                 YB   \n",
       "4        IE000003             SIEMENS               B50f   \n",
       "..            ...                 ...                ...   \n",
       "995      OE000498  GE MEDICAL SYSTEMS           STANDARD   \n",
       "996      IE000499             SIEMENS               B50f   \n",
       "997      OE000499             SIEMENS               B50f   \n",
       "998      IE000500  GE MEDICAL SYSTEMS               CHST   \n",
       "999      OE000500             SIEMENS               B41f   \n",
       "\n",
       "                                                  Path   Mode  \n",
       "0    /workspace/sunggu/5.CT_Standardization/dataset...  Train  \n",
       "1    /workspace/sunggu/5.CT_Standardization/dataset...  Train  \n",
       "2    /workspace/sunggu/5.CT_Standardization/dataset...  Train  \n",
       "3    /workspace/sunggu/5.CT_Standardization/dataset...  Train  \n",
       "4    /workspace/sunggu/5.CT_Standardization/dataset...  Train  \n",
       "..                                                 ...    ...  \n",
       "995  /workspace/sunggu/5.CT_Standardization/dataset...   Test  \n",
       "996  /workspace/sunggu/5.CT_Standardization/dataset...  Train  \n",
       "997  /workspace/sunggu/5.CT_Standardization/dataset...  Train  \n",
       "998  /workspace/sunggu/5.CT_Standardization/dataset...  Train  \n",
       "999  /workspace/sunggu/5.CT_Standardization/dataset...  Train  \n",
       "\n",
       "[997 rows x 5 columns]"
      ]
     },
     "execution_count": 69,
     "metadata": {},
     "output_type": "execute_result"
    }
   ],
   "source": [
    "E_df"
   ]
  },
  {
   "cell_type": "code",
   "execution_count": 76,
   "id": "silent-planet",
   "metadata": {},
   "outputs": [],
   "source": [
    "E_df = pd.read_excel('/workspace/sunggu/5.CT_Standardization/dataset/NII_Pair_CT_dataset/Enhance_O_df.xlsx', engine='openpyxl', index_col=0) "
   ]
  },
  {
   "cell_type": "code",
   "execution_count": 77,
   "id": "fixed-pregnancy",
   "metadata": {},
   "outputs": [
    {
     "data": {
      "text/html": [
       "<div>\n",
       "<style scoped>\n",
       "    .dataframe tbody tr th:only-of-type {\n",
       "        vertical-align: middle;\n",
       "    }\n",
       "\n",
       "    .dataframe tbody tr th {\n",
       "        vertical-align: top;\n",
       "    }\n",
       "\n",
       "    .dataframe thead th {\n",
       "        text-align: right;\n",
       "    }\n",
       "</style>\n",
       "<table border=\"1\" class=\"dataframe\">\n",
       "  <thead>\n",
       "    <tr style=\"text-align: right;\">\n",
       "      <th></th>\n",
       "      <th>Anonymized ID</th>\n",
       "      <th>Manufacturer</th>\n",
       "      <th>Convolution Kernel</th>\n",
       "      <th>Path</th>\n",
       "      <th>Mode</th>\n",
       "    </tr>\n",
       "  </thead>\n",
       "  <tbody>\n",
       "    <tr>\n",
       "      <th>3</th>\n",
       "      <td>OE000002</td>\n",
       "      <td>Philips</td>\n",
       "      <td>YB</td>\n",
       "      <td>/workspace/sunggu/5.CT_Standardization/dataset...</td>\n",
       "      <td>Train</td>\n",
       "    </tr>\n",
       "    <tr>\n",
       "      <th>11</th>\n",
       "      <td>OE000006</td>\n",
       "      <td>Philips</td>\n",
       "      <td>YC</td>\n",
       "      <td>/workspace/sunggu/5.CT_Standardization/dataset...</td>\n",
       "      <td>Train</td>\n",
       "    </tr>\n",
       "    <tr>\n",
       "      <th>21</th>\n",
       "      <td>OE000011</td>\n",
       "      <td>Philips</td>\n",
       "      <td>YA</td>\n",
       "      <td>/workspace/sunggu/5.CT_Standardization/dataset...</td>\n",
       "      <td>Train</td>\n",
       "    </tr>\n",
       "    <tr>\n",
       "      <th>23</th>\n",
       "      <td>OE000012</td>\n",
       "      <td>Philips</td>\n",
       "      <td>YB</td>\n",
       "      <td>/workspace/sunggu/5.CT_Standardization/dataset...</td>\n",
       "      <td>Train</td>\n",
       "    </tr>\n",
       "    <tr>\n",
       "      <th>39</th>\n",
       "      <td>OE000020</td>\n",
       "      <td>Philips</td>\n",
       "      <td>A</td>\n",
       "      <td>/workspace/sunggu/5.CT_Standardization/dataset...</td>\n",
       "      <td>Train</td>\n",
       "    </tr>\n",
       "    <tr>\n",
       "      <th>...</th>\n",
       "      <td>...</td>\n",
       "      <td>...</td>\n",
       "      <td>...</td>\n",
       "      <td>...</td>\n",
       "      <td>...</td>\n",
       "    </tr>\n",
       "    <tr>\n",
       "      <th>963</th>\n",
       "      <td>OE000482</td>\n",
       "      <td>Philips</td>\n",
       "      <td>YA</td>\n",
       "      <td>/workspace/sunggu/5.CT_Standardization/dataset...</td>\n",
       "      <td>Train</td>\n",
       "    </tr>\n",
       "    <tr>\n",
       "      <th>973</th>\n",
       "      <td>OE000487</td>\n",
       "      <td>Philips</td>\n",
       "      <td>YD</td>\n",
       "      <td>/workspace/sunggu/5.CT_Standardization/dataset...</td>\n",
       "      <td>Train</td>\n",
       "    </tr>\n",
       "    <tr>\n",
       "      <th>977</th>\n",
       "      <td>OE000489</td>\n",
       "      <td>Philips</td>\n",
       "      <td>YA</td>\n",
       "      <td>/workspace/sunggu/5.CT_Standardization/dataset...</td>\n",
       "      <td>Train</td>\n",
       "    </tr>\n",
       "    <tr>\n",
       "      <th>987</th>\n",
       "      <td>OE000494</td>\n",
       "      <td>Philips</td>\n",
       "      <td>YA</td>\n",
       "      <td>/workspace/sunggu/5.CT_Standardization/dataset...</td>\n",
       "      <td>Train</td>\n",
       "    </tr>\n",
       "    <tr>\n",
       "      <th>993</th>\n",
       "      <td>OE000497</td>\n",
       "      <td>Philips</td>\n",
       "      <td>YC</td>\n",
       "      <td>/workspace/sunggu/5.CT_Standardization/dataset...</td>\n",
       "      <td>Train</td>\n",
       "    </tr>\n",
       "  </tbody>\n",
       "</table>\n",
       "<p>94 rows × 5 columns</p>\n",
       "</div>"
      ],
      "text/plain": [
       "    Anonymized ID Manufacturer Convolution Kernel  \\\n",
       "3        OE000002      Philips                 YB   \n",
       "11       OE000006      Philips                 YC   \n",
       "21       OE000011      Philips                 YA   \n",
       "23       OE000012      Philips                 YB   \n",
       "39       OE000020      Philips                  A   \n",
       "..            ...          ...                ...   \n",
       "963      OE000482      Philips                 YA   \n",
       "973      OE000487      Philips                 YD   \n",
       "977      OE000489      Philips                 YA   \n",
       "987      OE000494      Philips                 YA   \n",
       "993      OE000497      Philips                 YC   \n",
       "\n",
       "                                                  Path   Mode  \n",
       "3    /workspace/sunggu/5.CT_Standardization/dataset...  Train  \n",
       "11   /workspace/sunggu/5.CT_Standardization/dataset...  Train  \n",
       "21   /workspace/sunggu/5.CT_Standardization/dataset...  Train  \n",
       "23   /workspace/sunggu/5.CT_Standardization/dataset...  Train  \n",
       "39   /workspace/sunggu/5.CT_Standardization/dataset...  Train  \n",
       "..                                                 ...    ...  \n",
       "963  /workspace/sunggu/5.CT_Standardization/dataset...  Train  \n",
       "973  /workspace/sunggu/5.CT_Standardization/dataset...  Train  \n",
       "977  /workspace/sunggu/5.CT_Standardization/dataset...  Train  \n",
       "987  /workspace/sunggu/5.CT_Standardization/dataset...  Train  \n",
       "993  /workspace/sunggu/5.CT_Standardization/dataset...  Train  \n",
       "\n",
       "[94 rows x 5 columns]"
      ]
     },
     "execution_count": 77,
     "metadata": {},
     "output_type": "execute_result"
    }
   ],
   "source": [
    "E_df[ (E_df['Manufacturer'] == 'Philips') & (E_df['Mode'] == 'Train')]"
   ]
  },
  {
   "cell_type": "code",
   "execution_count": 83,
   "id": "fatty-boxing",
   "metadata": {},
   "outputs": [
    {
     "data": {
      "text/plain": [
       "array(['SIEMENS', 'GE MEDICAL SYSTEMS', 'Philips', 'TOSHIBA', 'INFINITT',\n",
       "       'PNMS', 'Hitachi Medical Corporation'], dtype=object)"
      ]
     },
     "execution_count": 83,
     "metadata": {},
     "output_type": "execute_result"
    }
   ],
   "source": [
    "E_df['Manufacturer'].unique()"
   ]
  },
  {
   "cell_type": "code",
   "execution_count": 78,
   "id": "spare-sunday",
   "metadata": {
    "collapsed": true
   },
   "outputs": [
    {
     "data": {
      "text/plain": [
       "array(['OE000002', 'OE000006', 'OE000011', 'OE000012', 'OE000020',\n",
       "       'OE000022', 'OE000028', 'OE000030', 'OE000035', 'OE000046',\n",
       "       'OE000047', 'OE000059', 'OE000062', 'OE000065', 'OE000066',\n",
       "       'OE000076', 'OE000078', 'OE000086', 'OE000093', 'OE000097',\n",
       "       'OE000114', 'OE000115', 'OE000116', 'OE000120', 'OE000130',\n",
       "       'OE000136', 'OE000158', 'OE000166', 'OE000184', 'OE000189',\n",
       "       'OE000191', 'OE000197', 'OE000202', 'OE000204', 'OE000205',\n",
       "       'OE000210', 'OE000215', 'OE000219', 'OE000226', 'OE000227',\n",
       "       'OE000236', 'OE000238', 'OE000254', 'OE000255', 'OE000256',\n",
       "       'OE000263', 'OE000264', 'OE000272', 'OE000273', 'OE000280',\n",
       "       'OE000282', 'OE000284', 'OE000288', 'OE000296', 'OE000297',\n",
       "       'OE000298', 'OE000305', 'OE000307', 'OE000315', 'OE000317',\n",
       "       'OE000324', 'OE000331', 'OE000335', 'OE000344', 'OE000347',\n",
       "       'OE000351', 'OE000353', 'OE000355', 'OE000364', 'OE000366',\n",
       "       'OE000373', 'OE000380', 'OE000391', 'OE000393', 'OE000408',\n",
       "       'OE000413', 'OE000416', 'OE000429', 'OE000430', 'OE000434',\n",
       "       'OE000435', 'OE000445', 'OE000451', 'OE000456', 'OE000457',\n",
       "       'OE000461', 'OE000462', 'OE000467', 'OE000476', 'OE000482',\n",
       "       'OE000487', 'OE000489', 'OE000494', 'OE000497'], dtype=object)"
      ]
     },
     "execution_count": 78,
     "metadata": {},
     "output_type": "execute_result"
    }
   ],
   "source": [
    "E_df[ (E_df['Manufacturer'] == 'Philips') & (E_df['Mode'] == 'Train')]['Anonymized ID'].values"
   ]
  },
  {
   "cell_type": "code",
   "execution_count": 79,
   "id": "female-ownership",
   "metadata": {
    "scrolled": true
   },
   "outputs": [
    {
     "data": {
      "text/plain": [
       "array(['/workspace/sunggu/5.CT_Standardization/dataset/NII_Pair_CT_dataset/Outside_O_Enhance/OE000002/2_chest_post.nii.gz',\n",
       "       '/workspace/sunggu/5.CT_Standardization/dataset/NII_Pair_CT_dataset/Outside_O_Enhance/OE000006/4_post_33.nii.gz',\n",
       "       '/workspace/sunggu/5.CT_Standardization/dataset/NII_Pair_CT_dataset/Outside_O_Enhance/OE000011/2_chest_post.nii.gz',\n",
       "       '/workspace/sunggu/5.CT_Standardization/dataset/NII_Pair_CT_dataset/Outside_O_Enhance/OE000012/4_chest_post.nii.gz',\n",
       "       '/workspace/sunggu/5.CT_Standardization/dataset/NII_Pair_CT_dataset/Outside_O_Enhance/OE000020/203_e-ax_idose.nii.gz',\n",
       "       '/workspace/sunggu/5.CT_Standardization/dataset/NII_Pair_CT_dataset/Outside_O_Enhance/OE000022/20290_.nii.gz',\n",
       "       '/workspace/sunggu/5.CT_Standardization/dataset/NII_Pair_CT_dataset/Outside_O_Enhance/OE000028/9_chest_33.nii.gz',\n",
       "       '/workspace/sunggu/5.CT_Standardization/dataset/NII_Pair_CT_dataset/Outside_O_Enhance/OE000030/2_post.nii.gz',\n",
       "       '/workspace/sunggu/5.CT_Standardization/dataset/NII_Pair_CT_dataset/Outside_O_Enhance/OE000035/4_post.nii.gz',\n",
       "       '/workspace/sunggu/5.CT_Standardization/dataset/NII_Pair_CT_dataset/Outside_O_Enhance/OE000046/301_post_55_idose_3.nii.gz',\n",
       "       '/workspace/sunggu/5.CT_Standardization/dataset/NII_Pair_CT_dataset/Outside_O_Enhance/OE000047/7_3cc80cc.nii.gz',\n",
       "       '/workspace/sunggu/5.CT_Standardization/dataset/NII_Pair_CT_dataset/Outside_O_Enhance/OE000059/301_post_idose_2.nii.gz',\n",
       "       '/workspace/sunggu/5.CT_Standardization/dataset/NII_Pair_CT_dataset/Outside_O_Enhance/OE000062/402_vascular_11mm_idose_3.nii.gz',\n",
       "       '/workspace/sunggu/5.CT_Standardization/dataset/NII_Pair_CT_dataset/Outside_O_Enhance/OE000065/7_chest_st.nii.gz',\n",
       "       '/workspace/sunggu/5.CT_Standardization/dataset/NII_Pair_CT_dataset/Outside_O_Enhance/OE000066/3_chest_post.nii.gz',\n",
       "       '/workspace/sunggu/5.CT_Standardization/dataset/NII_Pair_CT_dataset/Outside_O_Enhance/OE000076/503_1mm_chest_idose_3.nii.gz',\n",
       "       '/workspace/sunggu/5.CT_Standardization/dataset/NII_Pair_CT_dataset/Outside_O_Enhance/OE000078/6_post_70sec.nii.gz',\n",
       "       '/workspace/sunggu/5.CT_Standardization/dataset/NII_Pair_CT_dataset/Outside_O_Enhance/OE000086/2_post32mm.nii.gz',\n",
       "       '/workspace/sunggu/5.CT_Standardization/dataset/NII_Pair_CT_dataset/Outside_O_Enhance/OE000093/303_lung_setting.nii.gz',\n",
       "       '/workspace/sunggu/5.CT_Standardization/dataset/NII_Pair_CT_dataset/Outside_O_Enhance/OE000097/3_chest_post.nii.gz',\n",
       "       '/workspace/sunggu/5.CT_Standardization/dataset/NII_Pair_CT_dataset/Outside_O_Enhance/OE000114/301_post-55sec_idose_3.nii.gz',\n",
       "       '/workspace/sunggu/5.CT_Standardization/dataset/NII_Pair_CT_dataset/Outside_O_Enhance/OE000115/80497_post.nii.gz',\n",
       "       '/workspace/sunggu/5.CT_Standardization/dataset/NII_Pair_CT_dataset/Outside_O_Enhance/OE000116/4_post_33.nii.gz',\n",
       "       '/workspace/sunggu/5.CT_Standardization/dataset/NII_Pair_CT_dataset/Outside_O_Enhance/OE000120/6_20cc80cc.nii.gz',\n",
       "       '/workspace/sunggu/5.CT_Standardization/dataset/NII_Pair_CT_dataset/Outside_O_Enhance/OE000130/402_3cc80cc.nii.gz',\n",
       "       '/workspace/sunggu/5.CT_Standardization/dataset/NII_Pair_CT_dataset/Outside_O_Enhance/OE000136/5_post_soft.nii.gz',\n",
       "       '/workspace/sunggu/5.CT_Standardization/dataset/NII_Pair_CT_dataset/Outside_O_Enhance/OE000158/2_post32mm.nii.gz',\n",
       "       '/workspace/sunggu/5.CT_Standardization/dataset/NII_Pair_CT_dataset/Outside_O_Enhance/OE000166/301_40sec_idose_3.nii.gz',\n",
       "       '/workspace/sunggu/5.CT_Standardization/dataset/NII_Pair_CT_dataset/Outside_O_Enhance/OE000184/401_post_25mm_idose_3.nii.gz',\n",
       "       '/workspace/sunggu/5.CT_Standardization/dataset/NII_Pair_CT_dataset/Outside_O_Enhance/OE000189/5_post.nii.gz',\n",
       "       '/workspace/sunggu/5.CT_Standardization/dataset/NII_Pair_CT_dataset/Outside_O_Enhance/OE000191/80328_2sec100ml.nii.gz',\n",
       "       '/workspace/sunggu/5.CT_Standardization/dataset/NII_Pair_CT_dataset/Outside_O_Enhance/OE000197/7_chest_33.nii.gz',\n",
       "       '/workspace/sunggu/5.CT_Standardization/dataset/NII_Pair_CT_dataset/Outside_O_Enhance/OE000202/7_chest_post_i2.nii.gz',\n",
       "       '/workspace/sunggu/5.CT_Standardization/dataset/NII_Pair_CT_dataset/Outside_O_Enhance/OE000204/703_post_25mmyc.nii.gz',\n",
       "       '/workspace/sunggu/5.CT_Standardization/dataset/NII_Pair_CT_dataset/Outside_O_Enhance/OE000205/4_post.nii.gz',\n",
       "       '/workspace/sunggu/5.CT_Standardization/dataset/NII_Pair_CT_dataset/Outside_O_Enhance/OE000210/2_post.nii.gz',\n",
       "       '/workspace/sunggu/5.CT_Standardization/dataset/NII_Pair_CT_dataset/Outside_O_Enhance/OE000215/4_angio.nii.gz',\n",
       "       '/workspace/sunggu/5.CT_Standardization/dataset/NII_Pair_CT_dataset/Outside_O_Enhance/OE000219/2_post32mm.nii.gz',\n",
       "       '/workspace/sunggu/5.CT_Standardization/dataset/NII_Pair_CT_dataset/Outside_O_Enhance/OE000226/6_arterial.nii.gz',\n",
       "       '/workspace/sunggu/5.CT_Standardization/dataset/NII_Pair_CT_dataset/Outside_O_Enhance/OE000227/4_chest_post5mm.nii.gz',\n",
       "       '/workspace/sunggu/5.CT_Standardization/dataset/NII_Pair_CT_dataset/Outside_O_Enhance/OE000236/301_post_5mm_idose_1.nii.gz',\n",
       "       '/workspace/sunggu/5.CT_Standardization/dataset/NII_Pair_CT_dataset/Outside_O_Enhance/OE000238/6_chest_33.nii.gz',\n",
       "       '/workspace/sunggu/5.CT_Standardization/dataset/NII_Pair_CT_dataset/Outside_O_Enhance/OE000254/5_artery.nii.gz',\n",
       "       '/workspace/sunggu/5.CT_Standardization/dataset/NII_Pair_CT_dataset/Outside_O_Enhance/OE000255/2_zenetixt32mm.nii.gz',\n",
       "       '/workspace/sunggu/5.CT_Standardization/dataset/NII_Pair_CT_dataset/Outside_O_Enhance/OE000256/301_post_5mm_idose_2.nii.gz',\n",
       "       '/workspace/sunggu/5.CT_Standardization/dataset/NII_Pair_CT_dataset/Outside_O_Enhance/OE000263/3_chest_post.nii.gz',\n",
       "       '/workspace/sunggu/5.CT_Standardization/dataset/NII_Pair_CT_dataset/Outside_O_Enhance/OE000264/8_post_25mmyc.nii.gz',\n",
       "       '/workspace/sunggu/5.CT_Standardization/dataset/NII_Pair_CT_dataset/Outside_O_Enhance/OE000272/601_lung_12020_i6_idose_6.nii.gz',\n",
       "       '/workspace/sunggu/5.CT_Standardization/dataset/NII_Pair_CT_dataset/Outside_O_Enhance/OE000273/4_post_33.nii.gz',\n",
       "       '/workspace/sunggu/5.CT_Standardization/dataset/NII_Pair_CT_dataset/Outside_O_Enhance/OE000280/301_chest_post_idose_3.nii.gz',\n",
       "       '/workspace/sunggu/5.CT_Standardization/dataset/NII_Pair_CT_dataset/Outside_O_Enhance/OE000282/4_post.nii.gz',\n",
       "       '/workspace/sunggu/5.CT_Standardization/dataset/NII_Pair_CT_dataset/Outside_O_Enhance/OE000284/503_art-ax_idose.nii.gz',\n",
       "       '/workspace/sunggu/5.CT_Standardization/dataset/NII_Pair_CT_dataset/Outside_O_Enhance/OE000288/6_20cc80cc.nii.gz',\n",
       "       '/workspace/sunggu/5.CT_Standardization/dataset/NII_Pair_CT_dataset/Outside_O_Enhance/OE000296/3_post.nii.gz',\n",
       "       '/workspace/sunggu/5.CT_Standardization/dataset/NII_Pair_CT_dataset/Outside_O_Enhance/OE000297/20454_post.nii.gz',\n",
       "       '/workspace/sunggu/5.CT_Standardization/dataset/NII_Pair_CT_dataset/Outside_O_Enhance/OE000298/401_axial.nii.gz',\n",
       "       '/workspace/sunggu/5.CT_Standardization/dataset/NII_Pair_CT_dataset/Outside_O_Enhance/OE000305/4_post.nii.gz',\n",
       "       '/workspace/sunggu/5.CT_Standardization/dataset/NII_Pair_CT_dataset/Outside_O_Enhance/OE000307/3_chest_post.nii.gz',\n",
       "       '/workspace/sunggu/5.CT_Standardization/dataset/NII_Pair_CT_dataset/Outside_O_Enhance/OE000315/4_chest_post.nii.gz',\n",
       "       '/workspace/sunggu/5.CT_Standardization/dataset/NII_Pair_CT_dataset/Outside_O_Enhance/OE000317/502_20cc80cc_idose_2.nii.gz',\n",
       "       '/workspace/sunggu/5.CT_Standardization/dataset/NII_Pair_CT_dataset/Outside_O_Enhance/OE000324/4_post.nii.gz',\n",
       "       '/workspace/sunggu/5.CT_Standardization/dataset/NII_Pair_CT_dataset/Outside_O_Enhance/OE000331/5_post.nii.gz',\n",
       "       '/workspace/sunggu/5.CT_Standardization/dataset/NII_Pair_CT_dataset/Outside_O_Enhance/OE000335/6_post_55.nii.gz',\n",
       "       '/workspace/sunggu/5.CT_Standardization/dataset/NII_Pair_CT_dataset/Outside_O_Enhance/OE000344/6_30cc100cc.nii.gz',\n",
       "       '/workspace/sunggu/5.CT_Standardization/dataset/NII_Pair_CT_dataset/Outside_O_Enhance/OE000347/7_2mm.nii.gz',\n",
       "       '/workspace/sunggu/5.CT_Standardization/dataset/NII_Pair_CT_dataset/Outside_O_Enhance/OE000351/301_post_idose_3.nii.gz',\n",
       "       '/workspace/sunggu/5.CT_Standardization/dataset/NII_Pair_CT_dataset/Outside_O_Enhance/OE000353/2_chest__i_4.nii.gz',\n",
       "       '/workspace/sunggu/5.CT_Standardization/dataset/NII_Pair_CT_dataset/Outside_O_Enhance/OE000355/203_post_11_idose_2.nii.gz',\n",
       "       '/workspace/sunggu/5.CT_Standardization/dataset/NII_Pair_CT_dataset/Outside_O_Enhance/OE000364/30298_.nii.gz',\n",
       "       '/workspace/sunggu/5.CT_Standardization/dataset/NII_Pair_CT_dataset/Outside_O_Enhance/OE000366/20377_.nii.gz',\n",
       "       '/workspace/sunggu/5.CT_Standardization/dataset/NII_Pair_CT_dataset/Outside_O_Enhance/OE000373/201_post.nii.gz',\n",
       "       '/workspace/sunggu/5.CT_Standardization/dataset/NII_Pair_CT_dataset/Outside_O_Enhance/OE000380/8_ce_i2.nii.gz',\n",
       "       '/workspace/sunggu/5.CT_Standardization/dataset/NII_Pair_CT_dataset/Outside_O_Enhance/OE000391/8_arterial.nii.gz',\n",
       "       '/workspace/sunggu/5.CT_Standardization/dataset/NII_Pair_CT_dataset/Outside_O_Enhance/OE000393/6_ce_i2.nii.gz',\n",
       "       '/workspace/sunggu/5.CT_Standardization/dataset/NII_Pair_CT_dataset/Outside_O_Enhance/OE000408/401_post_3mm_idose_3.nii.gz',\n",
       "       '/workspace/sunggu/5.CT_Standardization/dataset/NII_Pair_CT_dataset/Outside_O_Enhance/OE000413/20319_.nii.gz',\n",
       "       '/workspace/sunggu/5.CT_Standardization/dataset/NII_Pair_CT_dataset/Outside_O_Enhance/OE000416/2_chest_post_3mm.nii.gz',\n",
       "       '/workspace/sunggu/5.CT_Standardization/dataset/NII_Pair_CT_dataset/Outside_O_Enhance/OE000429/4_post.nii.gz',\n",
       "       '/workspace/sunggu/5.CT_Standardization/dataset/NII_Pair_CT_dataset/Outside_O_Enhance/OE000430/2_chest_post_3mm.nii.gz',\n",
       "       '/workspace/sunggu/5.CT_Standardization/dataset/NII_Pair_CT_dataset/Outside_O_Enhance/OE000434/3_chest_post.nii.gz',\n",
       "       '/workspace/sunggu/5.CT_Standardization/dataset/NII_Pair_CT_dataset/Outside_O_Enhance/OE000435/8_ce__i2.nii.gz',\n",
       "       '/workspace/sunggu/5.CT_Standardization/dataset/NII_Pair_CT_dataset/Outside_O_Enhance/OE000445/5_post_soft.nii.gz',\n",
       "       '/workspace/sunggu/5.CT_Standardization/dataset/NII_Pair_CT_dataset/Outside_O_Enhance/OE000451/2_post32mm.nii.gz',\n",
       "       '/workspace/sunggu/5.CT_Standardization/dataset/NII_Pair_CT_dataset/Outside_O_Enhance/OE000456/4_enhance_25mm.nii.gz',\n",
       "       '/workspace/sunggu/5.CT_Standardization/dataset/NII_Pair_CT_dataset/Outside_O_Enhance/OE000457/302_1mm_imr_sp1.nii.gz',\n",
       "       '/workspace/sunggu/5.CT_Standardization/dataset/NII_Pair_CT_dataset/Outside_O_Enhance/OE000461/5_post_25mmyc.nii.gz',\n",
       "       '/workspace/sunggu/5.CT_Standardization/dataset/NII_Pair_CT_dataset/Outside_O_Enhance/OE000462/4_chest_post.nii.gz',\n",
       "       '/workspace/sunggu/5.CT_Standardization/dataset/NII_Pair_CT_dataset/Outside_O_Enhance/OE000467/9_ce__i2.nii.gz',\n",
       "       '/workspace/sunggu/5.CT_Standardization/dataset/NII_Pair_CT_dataset/Outside_O_Enhance/OE000476/402_20cc80cc_idose_2.nii.gz',\n",
       "       '/workspace/sunggu/5.CT_Standardization/dataset/NII_Pair_CT_dataset/Outside_O_Enhance/OE000482/80341_delay.nii.gz',\n",
       "       '/workspace/sunggu/5.CT_Standardization/dataset/NII_Pair_CT_dataset/Outside_O_Enhance/OE000487/4_post.nii.gz',\n",
       "       '/workspace/sunggu/5.CT_Standardization/dataset/NII_Pair_CT_dataset/Outside_O_Enhance/OE000489/3_chest_post.nii.gz',\n",
       "       '/workspace/sunggu/5.CT_Standardization/dataset/NII_Pair_CT_dataset/Outside_O_Enhance/OE000494/3_post32mm.nii.gz',\n",
       "       '/workspace/sunggu/5.CT_Standardization/dataset/NII_Pair_CT_dataset/Outside_O_Enhance/OE000497/303_post_25mmyc.nii.gz'],\n",
       "      dtype=object)"
      ]
     },
     "execution_count": 79,
     "metadata": {},
     "output_type": "execute_result"
    }
   ],
   "source": [
    "E_df[ (E_df['Manufacturer'] == 'Philips') & (E_df['Mode'] == 'Train')]['Path'].values"
   ]
  },
  {
   "cell_type": "code",
   "execution_count": 82,
   "id": "saving-memphis",
   "metadata": {},
   "outputs": [
    {
     "data": {
      "text/plain": [
       "array(['YB', 'YC', 'YA', 'YB', 'A', 'YA', 'YA', 'YA', 'YA', 'A', 'C', 'A',\n",
       "       'A', 'YA', 'YA', 'YB', 'YA', 'YA', 'YA', 'YA', 'YC', 'YC', 'YD',\n",
       "       'C', 'C', 'SB', 'YA', 'YC', 'YC', 'YC', 'C', 'YA', 'YA', 'YC', 'A',\n",
       "       'YD', 'YA', 'YA', 'YC', 'YC', 'A', 'YA', 'B', 'YA', 'A', 'YA',\n",
       "       'YC', 'YA', 'YC', 'A', 'A', 'A', 'C', 'YC', 'YC', 'YA', 'YA', 'YA',\n",
       "       'SB', 'C', 'A', 'YC', 'B', 'C', 'YB', 'YA', 'YC', 'C', 'F', 'YA',\n",
       "       'C', 'B', 'B', 'B', 'B', 'YA', 'YA', 'B', 'YA', 'YA', 'B', 'SB',\n",
       "       'YA', 'A', 'IMR1,SharpPlus', 'YC', 'SB', 'B', 'C', 'YA', 'YD',\n",
       "       'YA', 'YA', 'YC'], dtype=object)"
      ]
     },
     "execution_count": 82,
     "metadata": {},
     "output_type": "execute_result"
    }
   ],
   "source": [
    "E_df[ (E_df['Manufacturer'] == 'Philips') & (E_df['Mode'] == 'Train')]['Convolution Kernel'].values"
   ]
  },
  {
   "cell_type": "code",
   "execution_count": null,
   "id": "handy-george",
   "metadata": {},
   "outputs": [],
   "source": []
  }
 ],
 "metadata": {
  "kernelspec": {
   "display_name": "Python 3",
   "language": "python",
   "name": "python3"
  },
  "language_info": {
   "codemirror_mode": {
    "name": "ipython",
    "version": 3
   },
   "file_extension": ".py",
   "mimetype": "text/x-python",
   "name": "python",
   "nbconvert_exporter": "python",
   "pygments_lexer": "ipython3",
   "version": "3.6.9"
  },
  "toc": {
   "base_numbering": 1,
   "nav_menu": {},
   "number_sections": true,
   "sideBar": true,
   "skip_h1_title": false,
   "title_cell": "Table of Contents",
   "title_sidebar": "Contents",
   "toc_cell": false,
   "toc_position": {
    "height": "calc(100% - 180px)",
    "left": "10px",
    "top": "150px",
    "width": "384px"
   },
   "toc_section_display": true,
   "toc_window_display": true
  }
 },
 "nbformat": 4,
 "nbformat_minor": 5
}
